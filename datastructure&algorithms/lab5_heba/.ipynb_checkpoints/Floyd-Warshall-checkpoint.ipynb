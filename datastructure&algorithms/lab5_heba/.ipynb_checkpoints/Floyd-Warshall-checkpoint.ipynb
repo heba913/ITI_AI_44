{
 "cells": [
  {
   "cell_type": "markdown",
   "id": "e8d92876",
   "metadata": {},
   "source": [
    "# Algorithm"
   ]
  },
  {
   "cell_type": "markdown",
   "id": "aa30c01f",
   "metadata": {},
   "source": [
    "### 1:Initialization"
   ]
  },
  {
   "cell_type": "markdown",
   "id": "4780fc3b",
   "metadata": {},
   "source": [
    "Create a matrix \"dist\" of size V×V, where<br> \n",
    "    V is the number of vertices in the graph.<br>\n",
    "Initialize \"dist[i][j]\" to the weight of the edge from vertex i to vertex j if there is an edge, and \"∞\" if there is no edge.<br>\n",
    "Set \"dist[i][i]\" to 0 for all i (distance from a vertex to itself is 0)."
   ]
  },
  {
   "cell_type": "markdown",
   "id": "a759390a",
   "metadata": {},
   "source": [
    "### 2:Shortest Path Calculation"
   ]
  },
  {
   "cell_type": "markdown",
   "id": "1202f3f4",
   "metadata": {},
   "source": [
    "Consider each vertex k as a potential intermediate vertex.<br>\n",
    "For every pair of vertices i and j:<br>\n",
    "Check if the shortest path distance from i to j passing through vertex , k is shorter than the current shortest path distance <br>from i to j.\n",
    "If the path through k is shorter,<br>\n",
    "update \"dist[i][j]\" to the new shorter distance:<br>\n",
    "        dist[i][j]=min(dist[i][j],dist[i][k]+dist[k][j])\n"
   ]
  },
  {
   "cell_type": "markdown",
   "id": "b3d521ec",
   "metadata": {},
   "source": [
    "### 3:Finalizing the Distances"
   ]
  },
  {
   "cell_type": "markdown",
   "id": "d1b33200",
   "metadata": {},
   "source": [
    "After considering all vertices as intermediate points, the \"dist\" matrix will contain the shortest distances between all pairs of vertices."
   ]
  },
  {
   "cell_type": "markdown",
   "id": "9f328717",
   "metadata": {},
   "source": [
    "### 4:Identifying Negative Cycles (Optional)"
   ]
  },
  {
   "cell_type": "markdown",
   "id": "d7f08d55",
   "metadata": {},
   "source": [
    "Check the diagonal elements of the \"dist\" matrix.\n",
    "If any diagonal element \"dist[i][i]\" is negative, there is a negative cycle in the graph."
   ]
  },
  {
   "cell_type": "markdown",
   "id": "70b886b1",
   "metadata": {},
   "source": [
    "# Implemetation"
   ]
  },
  {
   "cell_type": "code",
   "execution_count": 2,
   "id": "e04a9bd8",
   "metadata": {},
   "outputs": [
    {
     "name": "stdout",
     "output_type": "stream",
     "text": [
      "Shortest distances between all pairs of vertices:\n",
      "[0, 5, 8, 9]\n",
      "[inf, 0, 3, 4]\n",
      "[inf, inf, 0, 1]\n",
      "[inf, inf, inf, 0]\n"
     ]
    }
   ],
   "source": [
    "INF = float('inf')\n",
    "\n",
    "def floyd_warshall(graph):\n",
    "    V = len(graph)\n",
    "    dist = [[0] * V for _ in range(V)]\n",
    "\n",
    "    \n",
    "    for i in range(V):\n",
    "        for j in range(V):\n",
    "            dist[i][j] = graph[i][j]\n",
    "\n",
    "   \n",
    "    for k in range(V):\n",
    "        for i in range(V):\n",
    "            for j in range(V):\n",
    "                dist[i][j] = min(dist[i][j], dist[i][k] + dist[k][j])\n",
    "\n",
    "\n",
    "    for i in range(V):\n",
    "        if dist[i][i] < 0:\n",
    "            print(\"Graph contains negative cycle\")\n",
    "            return\n",
    "\n",
    "    return dist\n",
    "\n",
    "\n",
    "if __name__ == \"__main__\":\n",
    "    graph = [\n",
    "        [0, 5, INF, 10],\n",
    "        [INF, 0, 3, INF],\n",
    "        [INF, INF, 0, 1],\n",
    "        [INF, INF, INF, 0]\n",
    "    ]\n",
    "\n",
    "    shortest_distances = floyd_warshall(graph)\n",
    "    print(\"Shortest distances between all pairs of vertices:\")\n",
    "    for row in shortest_distances:\n",
    "        print(row)\n"
   ]
  }
 ],
 "metadata": {
  "kernelspec": {
   "display_name": "Python 3 (ipykernel)",
   "language": "python",
   "name": "python3"
  },
  "language_info": {
   "codemirror_mode": {
    "name": "ipython",
    "version": 3
   },
   "file_extension": ".py",
   "mimetype": "text/x-python",
   "name": "python",
   "nbconvert_exporter": "python",
   "pygments_lexer": "ipython3",
   "version": "3.11.5"
  }
 },
 "nbformat": 4,
 "nbformat_minor": 5
}
