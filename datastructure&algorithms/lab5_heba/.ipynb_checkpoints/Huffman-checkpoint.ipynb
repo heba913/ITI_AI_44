{
 "cells": [
  {
   "cell_type": "markdown",
   "id": "a9bd4df4",
   "metadata": {},
   "source": [
    "# Huffman Algorithm"
   ]
  },
  {
   "cell_type": "markdown",
   "id": "d3fdc491",
   "metadata": {},
   "source": [
    " 1:Initialize Priority Queue:<br>\n",
    "Create a priority queue (min-heap) to store the frequency and corresponding characters. The priority is based on the frequency of characters. Lower frequency characters have higher priority.<br>\n",
    "2:Create Nodes: <br>\n",
    "For each character with a non-zero frequency, create a leaf node containing the character and its frequency. Add these nodes to the priority queue.<br>\n",
    "3:Build Huffman Tree:<br>\n",
    "While the priority queue has more than one node:<br>\n",
    "Remove the two nodes with the lowest frequencies from the priority queue.<br>\n",
    "Create a new internal node whose frequency is the sum of the frequencies of the two nodes removed.<br>\n",
    "Set the two removed nodes as children of the new internal node.<br>\n",
    "Insert the new internal node back into the priority queue.<br>\n",
    "The last remaining node in the priority queue is the root of the Huffman tree.<br>\n",
    "4:Generate Huffman Codes:<br>\n",
    "Traverse the Huffman tree from the root to each leaf.<br>\n",
    "Assign '0' for left edges and '1' for right edges during the traversal.<br>\n",
    "As you reach each leaf, record the path from the root to that leaf, which forms the Huffman code for the corresponding <br>character.\n",
    "5:Output Huffman Codes:<br>\n",
    "run the Huffman codes for each character. These codes represent the compressed form of the input data."
   ]
  },
  {
   "cell_type": "markdown",
   "id": "5808a90e",
   "metadata": {},
   "source": [
    "# Example:"
   ]
  },
  {
   "cell_type": "markdown",
   "id": "5ab0319d",
   "metadata": {},
   "source": [
    "Character frequencies: {'a': 5, 'b': 9, 'c': 12, 'd': 13, 'e': 16, 'f': 45}\n"
   ]
  },
  {
   "cell_type": "markdown",
   "id": "f8307b99",
   "metadata": {},
   "source": [
    "### 1:Create leaf nodes for each character with its frequency:"
   ]
  },
  {
   "cell_type": "markdown",
   "id": "5085a2c2",
   "metadata": {},
   "source": [
    "[a:5] [b:9] [c:12] [d:13] [e:16] [f:45]\n"
   ]
  },
  {
   "cell_type": "markdown",
   "id": "26db21ad",
   "metadata": {},
   "source": [
    "### 2:Build the Huffman Tree:\n"
   ]
  },
  {
   "cell_type": "markdown",
   "id": "ee18a1c9",
   "metadata": {},
   "source": [
    "Combine the two lowest frequencies: [a:5] and [b:9] to create an internal node with frequency 14.\n",
    "Continue combining nodes until only one node remains in the priority queue.\n",
    "The final tree might look like this:"
   ]
  },
  {
   "cell_type": "markdown",
   "id": "e07fefb8",
   "metadata": {},
   "source": [
    "           [f:45]\n",
    "          /      \\\n",
    "      [e:16]      *\n",
    "                 / \\\n",
    "             [d:13][*]\n",
    "                   / \\\n",
    "               [a:5][b:9]\n"
   ]
  },
  {
   "cell_type": "markdown",
   "id": "b58317d4",
   "metadata": {},
   "source": [
    "### 3:Generate Huffman Codes "
   ]
  },
  {
   "cell_type": "markdown",
   "id": "842a46a0",
   "metadata": {},
   "source": [
    "Traverse the tree:<br>\n",
    "    Left edges get '0', right edges get '1'.<br>\n",
    "Codes might look like: f: 0, e: 10, d: 110, a: 1110, b: 1111, c: 111."
   ]
  },
  {
   "cell_type": "markdown",
   "id": "36392725",
   "metadata": {},
   "source": [
    "### 4:Output Huffman Codes"
   ]
  },
  {
   "cell_type": "markdown",
   "id": "e3f4f305",
   "metadata": {},
   "source": [
    "f: 0, e: 10, d: 110, a: 1110, b: 1111, c: 111."
   ]
  },
  {
   "cell_type": "markdown",
   "id": "d483f1f0",
   "metadata": {},
   "source": [
    "### Time complexity"
   ]
  },
  {
   "cell_type": "markdown",
   "id": "4a941a0e",
   "metadata": {},
   "source": [
    "O(nlogn)"
   ]
  }
 ],
 "metadata": {
  "kernelspec": {
   "display_name": "Python 3 (ipykernel)",
   "language": "python",
   "name": "python3"
  },
  "language_info": {
   "codemirror_mode": {
    "name": "ipython",
    "version": 3
   },
   "file_extension": ".py",
   "mimetype": "text/x-python",
   "name": "python",
   "nbconvert_exporter": "python",
   "pygments_lexer": "ipython3",
   "version": "3.11.5"
  }
 },
 "nbformat": 4,
 "nbformat_minor": 5
}
