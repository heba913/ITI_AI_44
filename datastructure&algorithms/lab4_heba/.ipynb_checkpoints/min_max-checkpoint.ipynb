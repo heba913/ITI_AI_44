{
 "cells": [
  {
   "cell_type": "code",
   "execution_count": 2,
   "id": "b85467cd",
   "metadata": {},
   "outputs": [],
   "source": [
    "def getMinMax(arr, low, high):\n",
    "\n",
    "    if low == high:\n",
    "        return arr[low], arr[high]\n",
    "    elif low + 1 == high:\n",
    "        arr_min = min(arr[low], arr[high])\n",
    "        arr_max = max(arr[low], arr[high])\n",
    "        return arr_min, arr_max\n",
    "\n",
    "    else:\n",
    "        mid = (low + high) // 2\n",
    "        arr1_min, arr1_max = getMinMax(arr, low, mid)\n",
    "        arr2_min, arr2_max = getMinMax(arr, mid+1, high)\n",
    "        return min(arr1_min, arr2_min), max(arr2_max, arr1_max)\n",
    "\n",
    "\n",
    "\n"
   ]
  },
  {
   "cell_type": "code",
   "execution_count": 3,
   "id": "c61cdd43",
   "metadata": {},
   "outputs": [],
   "source": [
    "test = [-10, 2, 3, -20]\n",
    "mn, mx = getMinMax(test, 0, len(test)-1)"
   ]
  },
  {
   "cell_type": "code",
   "execution_count": 6,
   "id": "c3d32609",
   "metadata": {},
   "outputs": [
    {
     "name": "stdout",
     "output_type": "stream",
     "text": [
      "minimum value is : -20\n",
      "maximum value is : 3\n"
     ]
    }
   ],
   "source": [
    "print(\"minimum value is :\" , mn)\n",
    "print(\"maximum value is :\" , mx)"
   ]
  },
  {
   "cell_type": "markdown",
   "id": "21104f50",
   "metadata": {},
   "source": [
    "# Finding Maximum and Minimum"
   ]
  },
  {
   "cell_type": "markdown",
   "id": "539d777e",
   "metadata": {},
   "source": [
    "Base Cases:<br>\n",
    "\n",
    " =>If the array has only one element, that element is both the maximum and minimum.\n",
    " =>If the array has two elements, compare them and determine the maximum and minimum.\n",
    "      =>Divide the Array:\n",
    "\n",
    " =>Divide the array into two halves.\n",
    " =>Recursion:\n",
    "\n",
    "    Recursively find the maximum and minimum in each half of the array.\n",
    "    Combine:\n",
    "\n",
    "Compare the maximum and minimum from the two halves.\n",
    "The maximum of the two maximums is the overall maximum of the array.\n",
    "The minimum of the two minimums is the overall minimum of the array.\n",
    "Return:\n",
    "\n",
    "Return the overall maximum and minimum."
   ]
  },
  {
   "cell_type": "markdown",
   "id": "e0eb5edf",
   "metadata": {},
   "source": [
    "# Complexity"
   ]
  },
  {
   "cell_type": "markdown",
   "id": "c0bb1f37",
   "metadata": {},
   "source": [
    "O(n)"
   ]
  }
 ],
 "metadata": {
  "kernelspec": {
   "display_name": "Python 3 (ipykernel)",
   "language": "python",
   "name": "python3"
  },
  "language_info": {
   "codemirror_mode": {
    "name": "ipython",
    "version": 3
   },
   "file_extension": ".py",
   "mimetype": "text/x-python",
   "name": "python",
   "nbconvert_exporter": "python",
   "pygments_lexer": "ipython3",
   "version": "3.11.5"
  }
 },
 "nbformat": 4,
 "nbformat_minor": 5
}
