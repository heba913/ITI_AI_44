{
 "cells": [
  {
   "cell_type": "code",
   "execution_count": 11,
   "id": "9080ff54",
   "metadata": {},
   "outputs": [],
   "source": [
    "def merge_sort(arr,start,end):\n",
    "    mid=(start+end) // 2\n",
    "    if start < end : # has more than one element\n",
    "        merge_sort(arr,start,mid)\n",
    "        merge_sort(arr, mid+1,end)\n",
    "        merge(arr,start,mid,end)#combining the two arrays \n",
    "        \n"
   ]
  },
  {
   "cell_type": "code",
   "execution_count": 16,
   "id": "a33aca07",
   "metadata": {},
   "outputs": [],
   "source": [
    "def merge(arr,start,mid,end):\n",
    "    i=start\n",
    "    j=mid+1\n",
    "    temp=[]\n",
    "    while i <= mid and j <= end:\n",
    "        if arr[i] < arr[j]:\n",
    "            temp.append(arr[i])\n",
    "            i+=1\n",
    "        else:\n",
    "            temp.append(arr[j])\n",
    "            j+=1\n",
    "        \n",
    "    temp.extend(arr[i:mid+1])\n",
    "    temp.extend(arr[j:end+1])\n",
    "    \n",
    "    k=start\n",
    "    while k <= end:\n",
    "        arr[k]=temp[k-start]#moving the sorted elements from the temporerary array to the original one\n",
    "        k+=1\n",
    "        "
   ]
  },
  {
   "cell_type": "code",
   "execution_count": 17,
   "id": "9a0443f9",
   "metadata": {},
   "outputs": [
    {
     "name": "stdout",
     "output_type": "stream",
     "text": [
      "[1, 2, 3, 4, 5, 6, 7, 8, 9, 10]\n"
     ]
    }
   ],
   "source": [
    "test = [3,1,4,7,2,9,5,8,6,10]\n",
    "merge_sort(test, 0, len(test) - 1)\n",
    "print(test)"
   ]
  },
  {
   "cell_type": "markdown",
   "id": "7c57bd71",
   "metadata": {},
   "source": [
    "# Merge sort"
   ]
  },
  {
   "cell_type": "markdown",
   "id": "10d88dd1",
   "metadata": {},
   "source": [
    "divide-and-conquer algorithm used to sort arrays. \n",
    "steps:<br>\n",
    "\n",
    "Divide: Split the array into two halves<br>\n",
    "Conquer: Recursively sort the two halves<br>\n",
    "Combine: Merge the two sorted halves into a single sorted array"
   ]
  },
  {
   "cell_type": "markdown",
   "id": "a6828322",
   "metadata": {},
   "source": [
    "# complexity"
   ]
  },
  {
   "cell_type": "markdown",
   "id": "567dd9f2",
   "metadata": {},
   "source": [
    " O(n log n)"
   ]
  }
 ],
 "metadata": {
  "kernelspec": {
   "display_name": "Python 3 (ipykernel)",
   "language": "python",
   "name": "python3"
  },
  "language_info": {
   "codemirror_mode": {
    "name": "ipython",
    "version": 3
   },
   "file_extension": ".py",
   "mimetype": "text/x-python",
   "name": "python",
   "nbconvert_exporter": "python",
   "pygments_lexer": "ipython3",
   "version": "3.11.5"
  }
 },
 "nbformat": 4,
 "nbformat_minor": 5
}
