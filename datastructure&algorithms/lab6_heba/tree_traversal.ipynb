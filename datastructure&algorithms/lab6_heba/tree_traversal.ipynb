{
 "cells": [
  {
   "cell_type": "markdown",
   "metadata": {},
   "source": [
    "pseudoCode\n",
    "    "
   ]
  },
  {
   "cell_type": "markdown",
   "metadata": {},
   "source": [
    "# Define a node for a binary tree\n",
    "class Node:\n",
    "    # Initialize a node with a value\n",
    "    method Node(value):\n",
    "        value = value\n",
    "        left = None\n",
    "        right = None\n",
    "\n",
    "# Class to perform tree traversals\n",
    "class TreeTraversal:\n",
    "    # InOrder traversal: recursively visit left subtree, root, then right subtree\n",
    "    method InOrderTraversal(node):\n",
    "        if node is not None:\n",
    "            InOrderTraversal(node.left)\n",
    "            Print node's value\n",
    "            InOrderTraversal(node.right)\n",
    "\n",
    "    # PreOrder traversal: visit root, then left subtree, then right subtree\n",
    "    method PreOrderTraversal(node):\n",
    "        if node is not None:\n",
    "            Print node's value\n",
    "            PreOrderTraversal(node.left)\n",
    "            PreOrderTraversal(node.right)\n",
    "\n",
    "    # PostOrder traversal: visit left subtree, right subtree, then root\n",
    "    method PostOrderTraversal(node):\n",
    "        if node is not None:\n",
    "            PostOrderTraversal(node.left)\n",
    "            PostOrderTraversal(node.right)\n",
    "            Print node's value\n"
   ]
  },
  {
   "cell_type": "markdown",
   "metadata": {},
   "source": [
    "Implementation"
   ]
  },
  {
   "cell_type": "code",
   "execution_count": null,
   "metadata": {},
   "outputs": [],
   "source": [
    "class Node:\n",
    "    def __init__(self,val) -> None:\n",
    "        self.left=None\n",
    "        self.right=None\n",
    "        self.val=val\n",
    "    "
   ]
  },
  {
   "cell_type": "code",
   "execution_count": 17,
   "metadata": {},
   "outputs": [],
   "source": [
    "class tree_traversal:\n",
    "    def inOrder(self,root):\n",
    "        if root :\n",
    "            self.inOrder(root.left)\n",
    "            print(root.val)\n",
    "            self.inOrder(root.right)\n",
    "    def preOrder(self , root):\n",
    "        if root :\n",
    "            print(root.val)\n",
    "            self.preOrder(root.left)\n",
    "            self.preOrder(root.right)\n",
    "    def postOrder(self , root):\n",
    "        if root:\n",
    "            self.postOrder(root.left)\n",
    "            self.postOrder(root.right)\n",
    "            print(root.val)"
   ]
  },
  {
   "cell_type": "code",
   "execution_count": 18,
   "metadata": {},
   "outputs": [],
   "source": [
    "root=Node(1)\n",
    "root.left= Node(2)\n",
    "root.right=Node(3)\n",
    "root.left.left= Node(4)\n",
    "root.right.right=Node(5)\n",
    "root.left.right=Node(6)\n",
    "root.right.left=Node(7)\n",
    "\n",
    "\n"
   ]
  },
  {
   "cell_type": "code",
   "execution_count": 19,
   "metadata": {},
   "outputs": [
    {
     "name": "stdout",
     "output_type": "stream",
     "text": [
      "*******InOrder*********\n",
      "4\n",
      "2\n",
      "6\n",
      "1\n",
      "7\n",
      "3\n",
      "5\n",
      "*******PreOrder*********\n",
      "1\n",
      "2\n",
      "4\n",
      "6\n",
      "3\n",
      "7\n",
      "5\n",
      "*******PostOrder*********\n",
      "4\n",
      "6\n",
      "2\n",
      "7\n",
      "5\n",
      "3\n",
      "1\n"
     ]
    }
   ],
   "source": [
    "traversal = tree_traversal()\n",
    "print(\"*******InOrder*********\")\n",
    "traversal.inOrder(root)\n",
    "print(\"*******PreOrder*********\")\n",
    "traversal.preOrder(root)\n",
    "print(\"*******PostOrder*********\")\n",
    "traversal.postOrder(root)"
   ]
  }
 ],
 "metadata": {
  "kernelspec": {
   "display_name": "Python 3",
   "language": "python",
   "name": "python3"
  },
  "language_info": {
   "codemirror_mode": {
    "name": "ipython",
    "version": 3
   },
   "file_extension": ".py",
   "mimetype": "text/x-python",
   "name": "python",
   "nbconvert_exporter": "python",
   "pygments_lexer": "ipython3",
   "version": "3.12.1"
  }
 },
 "nbformat": 4,
 "nbformat_minor": 2
}
