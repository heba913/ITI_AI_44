{
 "cells": [
  {
   "cell_type": "code",
   "execution_count": 4,
   "id": "9cc70540",
   "metadata": {},
   "outputs": [],
   "source": [
    "import numpy as np\n",
    "import pandas as pd\n",
    "import matplotlib.pyplot as plt\n",
    "%matplotlib inline\n",
    "from sklearn.metrics import r2_score"
   ]
  },
  {
   "cell_type": "code",
   "execution_count": 9,
   "id": "5cf92ad5",
   "metadata": {},
   "outputs": [],
   "source": [
    "data = np.genfromtxt('RegData.csv',delimiter=',')"
   ]
  },
  {
   "cell_type": "code",
   "execution_count": 10,
   "id": "7ccc8ea3",
   "metadata": {},
   "outputs": [],
   "source": [
    "x=data[ : , 0]"
   ]
  },
  {
   "cell_type": "code",
   "execution_count": 11,
   "id": "1c25adba",
   "metadata": {},
   "outputs": [],
   "source": [
    "y= data[: , 1 ]"
   ]
  },
  {
   "cell_type": "code",
   "execution_count": 12,
   "id": "ca4108e9",
   "metadata": {},
   "outputs": [
    {
     "data": {
      "text/plain": [
       "<matplotlib.collections.PathCollection at 0x15fd9066550>"
      ]
     },
     "execution_count": 12,
     "metadata": {},
     "output_type": "execute_result"
    },
    {
     "data": {
      "image/png": "[encoded data removed]",
      "text/plain": [
       "<Figure size 640x480 with 1 Axes>"
      ]
     },
     "metadata": {},
     "output_type": "display_data"
    }
   ],
   "source": [
    "plt.scatter(x,y)"
   ]
  },
  {
   "cell_type": "markdown",
   "id": "d49875f4",
   "metadata": {},
   "source": [
    "### 1:Intializing parameters "
   ]
  },
  {
   "cell_type": "code",
   "execution_count": 17,
   "id": "c1e18f72",
   "metadata": {},
   "outputs": [],
   "source": [
    "theta_0 = 0\n",
    "theta_1=0\n",
    "alpha=1"
   ]
  },
  {
   "cell_type": "markdown",
   "id": "4b9c9fe5",
   "metadata": {},
   "source": [
    "### 2:Prediction the output"
   ]
  },
  {
   "cell_type": "code",
   "execution_count": 18,
   "id": "7db8e214",
   "metadata": {},
   "outputs": [],
   "source": [
    "def h( x ):\n",
    "    return theta_0 + theta_1 * x"
   ]
  },
  {
   "cell_type": "code",
   "execution_count": 21,
   "id": "84e72da8",
   "metadata": {},
   "outputs": [
    {
     "name": "stdout",
     "output_type": "stream",
     "text": [
      "[0. 0. 0. 0. 0. 0. 0. 0. 0. 0. 0. 0. 0.]\n",
      "[4.         7.4000001  5.         7.19999981 7.9000001  6.0999999\n",
      " 6.         5.80000019 5.19999981 4.19999981 4.         4.4000001\n",
      " 5.19999981]\n"
     ]
    }
   ],
   "source": [
    "y_predict=h(x)\n",
    "print(y_predict)\n",
    "print(y)"
   ]
  },
  {
   "cell_type": "markdown",
   "id": "77f8cd61",
   "metadata": {},
   "source": [
    "### 3: calculating the error "
   ]
  },
  {
   "cell_type": "code",
   "execution_count": 22,
   "id": "a4d76a79",
   "metadata": {},
   "outputs": [],
   "source": [
    "def mse(y,y_pred):\n",
    "    error=y_pred-y\n",
    "    mse = np.sum(error**2) / (2 * len(y))\n",
    "    return error,mse"
   ]
  },
  {
   "cell_type": "code",
   "execution_count": 24,
   "id": "955ee250",
   "metadata": {},
   "outputs": [
    {
     "name": "stdout",
     "output_type": "stream",
     "text": [
      "[-4.         -7.4000001  -5.         -7.19999981 -7.9000001  -6.0999999\n",
      " -6.         -5.80000019 -5.19999981 -4.19999981 -4.         -4.4000001\n",
      " -5.19999981]\n",
      "16.305384479692318\n"
     ]
    }
   ],
   "source": [
    "error , j =mse(y,y_predict)\n",
    "print(error)\n",
    "print(j)"
   ]
  },
  {
   "cell_type": "markdown",
   "id": "7a62ef9c",
   "metadata": {},
   "source": [
    "### 4:defining the gradients"
   ]
  },
  {
   "cell_type": "code",
   "execution_count": 26,
   "id": "f2475204",
   "metadata": {},
   "outputs": [],
   "source": [
    "def calc_gradient(x , error_vector):\n",
    "    m=len(x)\n",
    "    gradient_theta_0 = (1 / m) * np.sum(error_vector)\n",
    "    gradient_theta_1 = (1 / m) * np.sum(error_vector * x)\n",
    "    return gradient_theta_0 , gradient_theta_1\n",
    "    "
   ]
  },
  {
   "cell_type": "code",
   "execution_count": 28,
   "id": "9689764e",
   "metadata": {},
   "outputs": [
    {
     "name": "stdout",
     "output_type": "stream",
     "text": [
      "-5.569230739769231\n",
      "-35.043846043215375\n"
     ]
    }
   ],
   "source": [
    "d_theta0 , d_theta1 = calc_gradient(x,error)\n",
    "print(d_theta0)\n",
    "print(d_theta1)"
   ]
  },
  {
   "cell_type": "markdown",
   "id": "173ef201",
   "metadata": {},
   "source": [
    "### 5:updating parameters"
   ]
  },
  {
   "cell_type": "code",
   "execution_count": 29,
   "id": "d7271ae5",
   "metadata": {},
   "outputs": [],
   "source": [
    "def update(theta , d_theta , alpha):\n",
    "    return theta - alpha * d_theta"
   ]
  },
  {
   "cell_type": "code",
   "execution_count": 32,
   "id": "d58645b0",
   "metadata": {},
   "outputs": [
    {
     "data": {
      "text/plain": [
       "0.0005569230739769231"
      ]
     },
     "execution_count": 32,
     "metadata": {},
     "output_type": "execute_result"
    }
   ],
   "source": [
    "theta_0_new= update(theta_0,d_theta0,.0001)\n",
    "theta_0_new"
   ]
  },
  {
   "cell_type": "markdown",
   "id": "ec5c94c6",
   "metadata": {},
   "source": [
    "### 6: Repeat from 2 to 5 until converge to the minimum or achieve maximum iterations."
   ]
  },
  {
   "cell_type": "code",
   "execution_count": 39,
   "id": "2d3f6ef9",
   "metadata": {},
   "outputs": [],
   "source": [
    "def LR(x , theta0 , theta1 , y ,alpha, convergence_threshold=0.1 , max_iters=300):\n",
    "    for i in range(max_iters):\n",
    "        y_predict= theta0 +theta1 * x \n",
    "        \n",
    "        error_vector= y_predict - y\n",
    "        mse = np.sum(error_vector**2) / (2 * len(y))\n",
    "        \n",
    "        m=len(y)\n",
    "        gradient_theta_0 = (1 / m) * np.sum(error_vector)\n",
    "        gradient_theta_1 = (1 / m) * np.sum(error_vector * x)\n",
    "   \n",
    "        gradient_norm = np.linalg.norm([gradient_theta_0, gradient_theta_1])\n",
    "        \n",
    "        if gradient_norm < convergence_threshold :\n",
    "            print(\"Converged\")\n",
    "            print(\"************training report*************\\n\")\n",
    "            print(\"converged after \", i, \"iterations\\n\")\n",
    "            print(\"ioptimum theta 0 : \\n \",theta0)\n",
    "            print(\"ioptimum theta 1 :\\n \",theta1)\n",
    "            break\n",
    "        theta0 = theta0 - alpha * gradient_theta_0\n",
    "        theta1 = theta1 - alpha * gradient_theta_1 \n",
    "        \n",
    "        \n",
    "        return theta0 , theta1\n",
    "    \n",
    "    \n",
    "    \n",
    "        \n",
    "    "
   ]
  },
  {
   "cell_type": "code",
   "execution_count": 40,
   "id": "a702351d",
   "metadata": {},
   "outputs": [
    {
     "data": {
      "text/plain": [
       "(0.05569230739769231, 0.35043846043215376)"
      ]
     },
     "execution_count": 40,
     "metadata": {},
     "output_type": "execute_result"
    }
   ],
   "source": [
    "LR(x,0,0,y,0.01,0.1,1000)"
   ]
  },
  {
   "cell_type": "code",
   "execution_count": null,
   "id": "2896e7e9",
   "metadata": {},
   "outputs": [],
   "source": []
  },
  {
   "cell_type": "code",
   "execution_count": null,
   "id": "ca5ce1ed",
   "metadata": {},
   "outputs": [],
   "source": []
  },
  {
   "cell_type": "code",
   "execution_count": null,
   "id": "6f1f3978",
   "metadata": {},
   "outputs": [],
   "source": []
  },
  {
   "cell_type": "code",
   "execution_count": null,
   "id": "7140c313",
   "metadata": {},
   "outputs": [],
   "source": []
  },
  {
   "cell_type": "code",
   "execution_count": null,
   "id": "dd664acb",
   "metadata": {},
   "outputs": [],
   "source": []
  },
  {
   "cell_type": "code",
   "execution_count": null,
   "id": "fad4566a",
   "metadata": {},
   "outputs": [],
   "source": []
  },
  {
   "cell_type": "code",
   "execution_count": null,
   "id": "a3464ab6",
   "metadata": {},
   "outputs": [],
   "source": []
  },
  {
   "cell_type": "code",
   "execution_count": null,
   "id": "e94f81f9",
   "metadata": {},
   "outputs": [],
   "source": []
  },
  {
   "cell_type": "code",
   "execution_count": null,
   "id": "b1e1689a",
   "metadata": {},
   "outputs": [],
   "source": []
  },
  {
   "cell_type": "code",
   "execution_count": null,
   "id": "79c0a7bb",
   "metadata": {},
   "outputs": [],
   "source": []
  },
  {
   "cell_type": "code",
   "execution_count": null,
   "id": "a2e14055",
   "metadata": {},
   "outputs": [],
   "source": []
  },
  {
   "cell_type": "code",
   "execution_count": null,
   "id": "4f7fbf61",
   "metadata": {},
   "outputs": [],
   "source": []
  }
 ],
 "metadata": {
  "kernelspec": {
   "display_name": "Python 3 (ipykernel)",
   "language": "python",
   "name": "python3"
  },
  "language_info": {
   "codemirror_mode": {
    "name": "ipython",
    "version": 3
   },
   "file_extension": ".py",
   "mimetype": "text/x-python",
   "name": "python",
   "nbconvert_exporter": "python",
   "pygments_lexer": "ipython3",
   "version": "3.11.5"
  }
 },
 "nbformat": 4,
 "nbformat_minor": 5
}
