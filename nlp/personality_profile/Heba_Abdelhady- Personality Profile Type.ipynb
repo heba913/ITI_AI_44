{
 "cells": [
  {
   "cell_type": "markdown",
   "metadata": {},
   "source": [
    "**Dataset:**\n",
    "personality type data (Lab 2 - Personality Profile Type.csv)\n",
    "\n",
    "**Objective:**\n",
    "classify Personality type as one of the following **using RNNs**. <br>\n",
    "['INFJ', 'ENTP', 'INTP', 'INTJ', 'ENTJ', 'ENFJ', 'INFP', 'ENFP',\n",
    "       'ISFP', 'ISTP', 'ISFJ', 'ISTJ', 'ESTP', 'ESFP', 'ESTJ', 'ESFJ']\n",
    "\n",
    "**Evaluation metric:**\n",
    "Precision"
   ]
  },
  {
   "cell_type": "markdown",
   "metadata": {
    "id": "v-6lrKz6orxT"
   },
   "source": [
    "### Import used libraries"
   ]
  },
  {
   "cell_type": "code",
   "execution_count": 25,
   "metadata": {},
   "outputs": [
    {
     "name": "stdout",
     "output_type": "stream",
     "text": [
      "Requirement already satisfied: nltk in c:\\users\\iti\\appdata\\local\\programs\\python\\python312\\lib\\site-packages (3.8.1)\n",
      "Requirement already satisfied: click in c:\\users\\iti\\appdata\\local\\programs\\python\\python312\\lib\\site-packages (from nltk) (8.1.7)\n",
      "Requirement already satisfied: joblib in c:\\users\\iti\\appdata\\local\\programs\\python\\python312\\lib\\site-packages (from nltk) (1.3.2)\n",
      "Requirement already satisfied: regex>=2021.8.3 in c:\\users\\iti\\appdata\\local\\programs\\python\\python312\\lib\\site-packages (from nltk) (2024.4.28)\n",
      "Requirement already satisfied: tqdm in c:\\users\\iti\\appdata\\local\\programs\\python\\python312\\lib\\site-packages (from nltk) (4.66.2)\n",
      "Requirement already satisfied: colorama in c:\\users\\iti\\appdata\\local\\programs\\python\\python312\\lib\\site-packages (from click->nltk) (0.4.6)\n"
     ]
    }
   ],
   "source": [
    "!pip install nltk"
   ]
  },
  {
   "cell_type": "code",
   "execution_count": 23,
   "metadata": {
    "id": "eXUPo3g4orxV"
   },
   "outputs": [],
   "source": [
    "import numpy as np\n",
    "import pandas as pd\n",
    "pd.set_option('display.max_rows', 500)\n",
    "pd.set_option('display.max_colwidth', 500)\n",
    "from sklearn.model_selection import train_test_split\n",
    "import random\n",
    "import re\n",
    "import nltk\n",
    "\n",
    "from nltk.corpus import stopwords\n",
    "from nltk.stem import WordNetLemmatizer\n",
    "import tensorflow as tf\n",
    "import tensorflow.keras as keras\n",
    "from sklearn.preprocessing import LabelEncoder\n",
    "from keras.preprocessing.sequence import pad_sequences\n",
    "from keras.models import Sequential\n",
    "from keras.layers import LSTM, Embedding, Dense\n",
    "from keras.layers import Bidirectional, Dropout\n",
    "from sklearn.metrics import precision_score\n",
    "\n"
   ]
  },
  {
   "cell_type": "markdown",
   "metadata": {
    "id": "fG8MkuvjorxX"
   },
   "source": [
    "### Load Dataset"
   ]
  },
  {
   "cell_type": "code",
   "execution_count": 2,
   "metadata": {
    "id": "BYeqhp66orxY"
   },
   "outputs": [
    {
     "data": {
      "text/html": [
       "<div>\n",
       "<style scoped>\n",
       "    .dataframe tbody tr th:only-of-type {\n",
       "        vertical-align: middle;\n",
       "    }\n",
       "\n",
       "    .dataframe tbody tr th {\n",
       "        vertical-align: top;\n",
       "    }\n",
       "\n",
       "    .dataframe thead th {\n",
       "        text-align: right;\n",
       "    }\n",
       "</style>\n",
       "<table border=\"1\" class=\"dataframe\">\n",
       "  <thead>\n",
       "    <tr style=\"text-align: right;\">\n",
       "      <th></th>\n",
       "      <th>type</th>\n",
       "      <th>posts</th>\n",
       "    </tr>\n",
       "  </thead>\n",
       "  <tbody>\n",
       "    <tr>\n",
       "      <th>0</th>\n",
       "      <td>INFJ</td>\n",
       "      <td>'http://www.youtube.com/watch?v=qsXHcwe3krw|||http://41.media.tumblr.com/tumblr_lfouy03PMA1qa1rooo1_500.jpg|||enfp and intj moments  https://www.youtube.com/watch?v=iz7lE1g4XM4  sportscenter not top ten plays  https://www.youtube.com/watch?v=uCdfze1etec  pranks|||What has been the most life-changing experience in your life?|||http://www.youtube.com/watch?v=vXZeYwwRDw8   http://www.youtube.com/watch?v=u8ejam5DP3E  On repeat for most of today.|||May the PerC Experience immerse you.|||The last ...</td>\n",
       "    </tr>\n",
       "    <tr>\n",
       "      <th>1</th>\n",
       "      <td>ENTP</td>\n",
       "      <td>'I'm finding the lack of me in these posts very alarming.|||Sex can be boring if it's in the same position often. For example me and my girlfriend are currently in an environment where we have to creatively use cowgirl and missionary. There isn't enough...|||Giving new meaning to 'Game' theory.|||Hello *ENTP Grin*  That's all it takes. Than we converse and they do most of the flirting while I acknowledge their presence and return their words with smooth wordplay and more cheeky grins.|||This...</td>\n",
       "    </tr>\n",
       "    <tr>\n",
       "      <th>2</th>\n",
       "      <td>INTP</td>\n",
       "      <td>'Good one  _____   https://www.youtube.com/watch?v=fHiGbolFFGw|||Of course, to which I say I know; that's my blessing and my curse.|||Does being absolutely positive that you and your best friend could be an amazing couple count? If so, than yes.   Or it's more I could be madly in love in case I reconciled my feelings (which at...|||No, I didn't; thank you for a link!|||So-called Ti-Si loop (and it can stem from any current topic/obsession) can be deadly. It's like when you're stuck in your o...</td>\n",
       "    </tr>\n",
       "    <tr>\n",
       "      <th>3</th>\n",
       "      <td>INTJ</td>\n",
       "      <td>'Dear INTP,   I enjoyed our conversation the other day.  Esoteric gabbing about the nature of the universe and the idea that every rule and social code being arbitrary constructs created...|||Dear ENTJ sub,   Long time no see.  Sincerely, Alpha|||None of them. All other types hurt in deep existential ways that I want no part of.|||Probably a sliding scale that depends on individual preferences, like everything in humanity.|||Draco Malfoy also. I'd say he's either 358 or 368.|||I'm either 358...</td>\n",
       "    </tr>\n",
       "    <tr>\n",
       "      <th>4</th>\n",
       "      <td>ENTJ</td>\n",
       "      <td>'You're fired.|||That's another silly misconception. That approaching is logically is going to be the key to unlocking whatever it is you think you are entitled to.   Nobody wants to be approached with BS...|||But guys... he REALLY wants to go on a super-duper-long-ass vacation. C'mon guys. His boss just doesn't listen or get it. He even approached him logically and everything.|||Never mind. Just go on permanent vacation.|||Two months? I wouldn't be crazy about the idea. If you are really hi...</td>\n",
       "    </tr>\n",
       "    <tr>\n",
       "      <th>5</th>\n",
       "      <td>INTJ</td>\n",
       "      <td>'18/37 @.@|||Science  is not perfect. No scientist claims that it is, or that scientific  information will not be revised as we discover new things.  Rational  thinking has been very useful to our society....|||INFP- Edgar Allen Poe was an INFP and he's in your siggy.|||People see the obvious Fi and are quick to put her as INFP. I agree that she has no Ne. I see her as an ISFP. Compare her to Haku (definite INFP). She is flat through most of Naruto.. but I don't...|||Lets get this party star...</td>\n",
       "    </tr>\n",
       "    <tr>\n",
       "      <th>6</th>\n",
       "      <td>INFJ</td>\n",
       "      <td>'No, I can't draw on my own nails (haha). Those were done by professionals on my nails. And yes, those are all gel.  You mean those you posted were done by yourself on your own nails? Awesome!|||Probably the Electronic Screen Syndrome. With the advent of technology and social media, we all suffer from overstimulation on a daily basis. I'm guilty as well. In the past, I can be happy just...|||I love nail arts too! These are some of mine:  718282 718290 718298 718306 718314|||This is the first...</td>\n",
       "    </tr>\n",
       "    <tr>\n",
       "      <th>7</th>\n",
       "      <td>INTJ</td>\n",
       "      <td>'I tend to build up a collection of things on my desktop that i use frequently and then move them into a folder called  'Everything' from there it get sorted into type and sub type|||i ike to collect odd objects, even at work...a lot of people would call it junk but i like to collect it.  Old unused software? ill take that off your hands :) i have a bunch of old adobe...|||i think its quite normal, i tend to only see my friends in real life every couple of months, as said earlier some people...</td>\n",
       "    </tr>\n",
       "    <tr>\n",
       "      <th>8</th>\n",
       "      <td>INFJ</td>\n",
       "      <td>I'm not sure, that's a good question. The distinction between the two is so dependant on perception. To quote Robb Flynn, ''The hate you feel is nothing more, than love you feel to win this war.''|||Good question! It's tough to say for sure but I loved Winona Ryder as Lydia in Beetlejuice...  http://i63.photobucket.com/albums/h158/trinsghost/Misc-Images/2921aa070866f20450f8e1160b1e5d41.jpg|||https://www.youtube.com/watch?v=r5If816MhoU|||https://www.youtube.com/watch?v=Q-sQklvpDhA|||I've been...</td>\n",
       "    </tr>\n",
       "    <tr>\n",
       "      <th>9</th>\n",
       "      <td>INTP</td>\n",
       "      <td>'https://www.youtube.com/watch?v=w8-egj0y8Qs|||I'm in this position where I have to actually let go of the person, due to a various reasons. Unfortunately I'm having trouble mustering enough strength to actually pull through it. Sometimes,...|||WHAT A YEAR, MAN. WHAT A YEAR.   I am just utterly bewildered with my 20s at this point.|||my laundry. as long as i've got clothes left to wear i'm fine.  and then the time comes that i DO run out, and i'm left to contend with The Mountain that is my ...</td>\n",
       "    </tr>\n",
       "  </tbody>\n",
       "</table>\n",
       "</div>"
      ],
      "text/plain": [
       "   type  \\\n",
       "0  INFJ   \n",
       "1  ENTP   \n",
       "2  INTP   \n",
       "3  INTJ   \n",
       "4  ENTJ   \n",
       "5  INTJ   \n",
       "6  INFJ   \n",
       "7  INTJ   \n",
       "8  INFJ   \n",
       "9  INTP   \n",
       "\n",
       "                                                                                                                                                                                                                                                                                                                                                                                                                                                                                                                 posts  \n",
       "0  'http://www.youtube.com/watch?v=qsXHcwe3krw|||http://41.media.tumblr.com/tumblr_lfouy03PMA1qa1rooo1_500.jpg|||enfp and intj moments  https://www.youtube.com/watch?v=iz7lE1g4XM4  sportscenter not top ten plays  https://www.youtube.com/watch?v=uCdfze1etec  pranks|||What has been the most life-changing experience in your life?|||http://www.youtube.com/watch?v=vXZeYwwRDw8   http://www.youtube.com/watch?v=u8ejam5DP3E  On repeat for most of today.|||May the PerC Experience immerse you.|||The last ...  \n",
       "1  'I'm finding the lack of me in these posts very alarming.|||Sex can be boring if it's in the same position often. For example me and my girlfriend are currently in an environment where we have to creatively use cowgirl and missionary. There isn't enough...|||Giving new meaning to 'Game' theory.|||Hello *ENTP Grin*  That's all it takes. Than we converse and they do most of the flirting while I acknowledge their presence and return their words with smooth wordplay and more cheeky grins.|||This...  \n",
       "2  'Good one  _____   https://www.youtube.com/watch?v=fHiGbolFFGw|||Of course, to which I say I know; that's my blessing and my curse.|||Does being absolutely positive that you and your best friend could be an amazing couple count? If so, than yes.   Or it's more I could be madly in love in case I reconciled my feelings (which at...|||No, I didn't; thank you for a link!|||So-called Ti-Si loop (and it can stem from any current topic/obsession) can be deadly. It's like when you're stuck in your o...  \n",
       "3  'Dear INTP,   I enjoyed our conversation the other day.  Esoteric gabbing about the nature of the universe and the idea that every rule and social code being arbitrary constructs created...|||Dear ENTJ sub,   Long time no see.  Sincerely, Alpha|||None of them. All other types hurt in deep existential ways that I want no part of.|||Probably a sliding scale that depends on individual preferences, like everything in humanity.|||Draco Malfoy also. I'd say he's either 358 or 368.|||I'm either 358...  \n",
       "4  'You're fired.|||That's another silly misconception. That approaching is logically is going to be the key to unlocking whatever it is you think you are entitled to.   Nobody wants to be approached with BS...|||But guys... he REALLY wants to go on a super-duper-long-ass vacation. C'mon guys. His boss just doesn't listen or get it. He even approached him logically and everything.|||Never mind. Just go on permanent vacation.|||Two months? I wouldn't be crazy about the idea. If you are really hi...  \n",
       "5  '18/37 @.@|||Science  is not perfect. No scientist claims that it is, or that scientific  information will not be revised as we discover new things.  Rational  thinking has been very useful to our society....|||INFP- Edgar Allen Poe was an INFP and he's in your siggy.|||People see the obvious Fi and are quick to put her as INFP. I agree that she has no Ne. I see her as an ISFP. Compare her to Haku (definite INFP). She is flat through most of Naruto.. but I don't...|||Lets get this party star...  \n",
       "6  'No, I can't draw on my own nails (haha). Those were done by professionals on my nails. And yes, those are all gel.  You mean those you posted were done by yourself on your own nails? Awesome!|||Probably the Electronic Screen Syndrome. With the advent of technology and social media, we all suffer from overstimulation on a daily basis. I'm guilty as well. In the past, I can be happy just...|||I love nail arts too! These are some of mine:  718282 718290 718298 718306 718314|||This is the first...  \n",
       "7  'I tend to build up a collection of things on my desktop that i use frequently and then move them into a folder called  'Everything' from there it get sorted into type and sub type|||i ike to collect odd objects, even at work...a lot of people would call it junk but i like to collect it.  Old unused software? ill take that off your hands :) i have a bunch of old adobe...|||i think its quite normal, i tend to only see my friends in real life every couple of months, as said earlier some people...  \n",
       "8  I'm not sure, that's a good question. The distinction between the two is so dependant on perception. To quote Robb Flynn, ''The hate you feel is nothing more, than love you feel to win this war.''|||Good question! It's tough to say for sure but I loved Winona Ryder as Lydia in Beetlejuice...  http://i63.photobucket.com/albums/h158/trinsghost/Misc-Images/2921aa070866f20450f8e1160b1e5d41.jpg|||https://www.youtube.com/watch?v=r5If816MhoU|||https://www.youtube.com/watch?v=Q-sQklvpDhA|||I've been...  \n",
       "9  'https://www.youtube.com/watch?v=w8-egj0y8Qs|||I'm in this position where I have to actually let go of the person, due to a various reasons. Unfortunately I'm having trouble mustering enough strength to actually pull through it. Sometimes,...|||WHAT A YEAR, MAN. WHAT A YEAR.   I am just utterly bewildered with my 20s at this point.|||my laundry. as long as i've got clothes left to wear i'm fine.  and then the time comes that i DO run out, and i'm left to contend with The Mountain that is my ...  "
      ]
     },
     "execution_count": 2,
     "metadata": {},
     "output_type": "execute_result"
    }
   ],
   "source": [
    "df = pd.read_csv(\"Lab 2 - Personality Profile Type.csv\")\n",
    "df.head(10)"
   ]
  },
  {
   "cell_type": "markdown",
   "metadata": {},
   "source": [
    "### Data splitting"
   ]
  },
  {
   "cell_type": "code",
   "execution_count": 3,
   "metadata": {},
   "outputs": [],
   "source": [
    "x=df['posts']\n",
    "y=df['type']"
   ]
  },
  {
   "cell_type": "code",
   "execution_count": 4,
   "metadata": {},
   "outputs": [],
   "source": [
    "x_train,x_test,y_train,y_test=train_test_split(x,y,test_size=.2 , random_state=99)"
   ]
  },
  {
   "cell_type": "code",
   "execution_count": 5,
   "metadata": {},
   "outputs": [
    {
     "name": "stdout",
     "output_type": "stream",
     "text": [
      "(6940,)\n",
      "(1735,)\n",
      "(6940,)\n",
      "(1735,)\n"
     ]
    }
   ],
   "source": [
    "print(x_train.shape)\n",
    "print(x_test.shape)\n",
    "print(y_train.shape)\n",
    "print(x_test.shape)"
   ]
  },
  {
   "cell_type": "markdown",
   "metadata": {
    "id": "hqWVKi_GorxZ"
   },
   "source": [
    "### EDA on training data"
   ]
  },
  {
   "cell_type": "markdown",
   "metadata": {
    "id": "R1zxJpFxorxa"
   },
   "source": [
    "- check NaNs"
   ]
  },
  {
   "cell_type": "code",
   "execution_count": 9,
   "metadata": {
    "id": "HVEttSujorxa"
   },
   "outputs": [
    {
     "data": {
      "text/plain": [
       "0"
      ]
     },
     "execution_count": 9,
     "metadata": {},
     "output_type": "execute_result"
    }
   ],
   "source": [
    "x_train.isna().sum()"
   ]
  },
  {
   "cell_type": "markdown",
   "metadata": {
    "id": "UwjbzVaIorxb"
   },
   "source": [
    "- check duplicates"
   ]
  },
  {
   "cell_type": "code",
   "execution_count": 11,
   "metadata": {
    "id": "J_FlBWISorxb"
   },
   "outputs": [
    {
     "data": {
      "text/plain": [
       "0"
      ]
     },
     "execution_count": 11,
     "metadata": {},
     "output_type": "execute_result"
    }
   ],
   "source": [
    "x_train.duplicated().sum()"
   ]
  },
  {
   "cell_type": "markdown",
   "metadata": {
    "id": "YjIBFc35orxc"
   },
   "source": [
    "- show a representative sample of data texts to find out required preprocessing steps"
   ]
  },
  {
   "cell_type": "code",
   "execution_count": 18,
   "metadata": {},
   "outputs": [
    {
     "name": "stdout",
     "output_type": "stream",
     "text": [
      "*****************\n",
      "'Dear ISTPs,   7000 posts and this doesn't qualify for a sticky?|||I'd guess that there is a correlation between how many male vs female istps there are in the gen pop and how many questions get asked about each here.|||Well, like the other NF who ressponded, apparently I've entirely missed the point as well. That's fine, as far as I'm concerned.   Look, how you are talking about this issue reads to me as though...|||While you're waiting for some ISTPs to give you their insight, I will offer this. Get his number and text him. If he responds, quickly or within the first 24 hours (sometimes they like to craft their...|||every useless bit of DNA they run into  Dear ISTP:  That is  the funniest description I have ever heard an ISTP use about other humans ever.  B|||As I've said a few times to my ISTP friend, you're not so special that you get to be the only misunderstood person on the planet.   Yeah, you're friends probably get it and accept you, otherwise I...|||Chill. I have a cold and am a little out of it. I meant sociopathic.  Please don't bother to define that, I'm capable of looking at the latest DSM, or even Wikipedia.|||@Petitpelerin  @VroomVroom I thought he meant how  @Glyphs describes it, and that worried me. I was also a bit confused because he has a super close group of friends, and is pretty arrogant - rightly...|||Dearest ISTPs  The ISTP I hold dearest clings to his belief, at age 33, that he is unfit for human companionship. His words.  In times past, I have heard other istps express a similar thing,...|||That is a very young ISTP... but generally, they don't tend to hint at things or play coy, so I wouldn't read a whole lot into what she wore, especially since she has a BF that she spoke with while...|||Perhaps surprisingly, my ISTP friend does really well in sales, and really likes it. But I think he has a lot of downtime between having to call on people or see them, and gets to be out of the...|||Dear @Nubb:  Thanks for making me feel my age. I thought this meant @TwinAnthos was tired, until you mentioned a steam name.   LOLs|||It was a real surprise to hear you say that, because you seem so very in touch with/ able to express what you feel - clearly and concisely (which is not a bad thing!). Don't know if that helps - hope...|||I wasn't posing a question about ISTPs.|||Dear whoever cares:  Holy S**t. I landed me another ISTP. One who doesn't have problems with his Fe.  I probably would have run screaming away if I had realized it before hand, but I think this...|||Is being wanted better than being needed? Probably in most instances I would agree that it is. But ISTPs can stop wanting so suddenly, needed definitely feels more secure. That's probably not even as...|||ISTP independence can be scary to an NF SO. It's not a matter of drama, at least that's not how I would read it- but I have needs and wants in a relationship. When it was me in that situation with an...|||Dear Dude: I'm trying to hold out when you sulk and analyze, or ignore, or whatever you are doing...but I gotta close the door on the whole shebang soon. No friends, no nothing. This is torturous! ...|||Not an ISTP, so I can't answer your ultimate questions, but the section on interest checks from the Survival Guide for Non-ISTPs may present some practical advice for a piece of this. It has some...|||The five-years-no-sex was prefaced by I'm going away to college in the fall.  How old were these people who were dating for five years and not having sex?|||Sweet! Congrats Jorji|||I would totally eat that ham sandwich. And enjoy it  ;)|||Unless the thing I mentioned wanting was a ham sandwich, that seems unlikely.|||Try the ban thread in Café Lounge|||Dear ISTP: If you want to get out of your head, put the bottle down and go the fuck outside. The time you spend on even one drink is too long to wallow in that pit of Fe.  Love, Me|||I doubt that empathtic verbal assurance is the first go-to for an ISTP (not that they can't do it, or won't if they understand it's something their partner needs, and they're invested in the...|||As an NF who has been there/done that 1. Yes.Much longer than will be comfortable for you, likely.  2. No. Not likely.  3. Be obvious, without pressuring. As in, be very plain and direct that you...|||I haven't seen my istp interest in a loooong time. We talk a lot tho. I'm in the process of moving really far away  and  his response, when I asked him if he had any problem with it was along the...|||Fwiw, I don't think that's atypical. I think Bukowski and Hemingway, possibly Orwell were ISTPs, just to name a few. My ISTP friend is an avid fiction reader. He writes, as well, but has been less...|||You joined PeRC to berate people?|||Thanks for the input! I appreciate it!|||Tracteur I hit upon it as a good possible meet up place for an ISTP friend/interest that I haven't seen in a long while. I know that museums are at the top of his indifference list, so I thought this...|||Do you like aquariums?|||Dear ISTP:  Geez, you're awfully butthurt about being caught out in a logical inconsistency. C'mon, relax, it took me years to be able to do that! Besides, it's not very pretty...  -B|||Dear ISTP  Ouch, changed the phone number without telling me, huh? Well, can't deny that I did it first, but I gave in and gave up the number way too quickly. You likely won't. Probably for the...|||Sorry, I don't mean to imply that as a group, I believe that ISTPs don't feel anything. Only that if others have specifically experienced this, could they tell me more.   I actually can't remember...|||Mid 30s ISTP friend said recently that he has no emotions/ feels nothing.   I'm curious about this. I recall seeing passing references in PeRC threads to ISTPs saying they feel nothing or do not...|||I believe @reletative is married to an ENFJ, and has a number of posts which articulately examine some of the issues and how she her husband have coped.  edit: here is one:...|||Dear ISTP: Time for me to date some feelers now. Thanks for teaching me to pay attention to the details in front of me, and helping me understand that not everyone who doesn't smile and wave or...|||Considering what you said in a different thread about contemplating leaving her, not being happy in your marraige, and just generally having massive problems with your wife, debt, etc: yeah... I'd...|||The last bit about picking up on projects later in life makes me wish there were some senior citizen ISTPs about on PERC to add their insight. It's very interesting in that I'm not sure I've ever...|||Hah, very f******g confusing!   We met at work (working for different agencies housed in the same space).  It was the intense gaze, the following me around like a puppy, and the full on joking...|||I_C_thru_U what nrk112 says sounds about right. They don't read much into statements. In fact, that's why I said the istp responding was a sign of effort: you're so silent doesn't pose a question,...|||I'm not tracking: what is the thing being said and is it me you're asking, or are you seeking an istp's answer??|||that type of explanation is actually a good sign, in my experience. If you weren't important to the istp, you wouldn't get an answer to that type of query.|||Dear NotedBook300  Welcome back! How was the military??  -b|||The job contact I'm trying to connect him with is where he lives now - not near where I live. Whatever else happens, I'm happy to make that connection for him.  Moving would mean part time work...|||not at all, because one thing I've learned is that dealing with itsp man, direct and to the point is the best way to communicate. So, I say ' this is what I start thinking based on what you said....|||BTW, thanks, Seralya for writing that (and to anyone else who contributed). It's been amazingly helpful in navigating things and for learning how to respond in a non-overwhelming manner to 'interest...|||Kind of an odd thing for an ISTP to do, I would have thought, but it takes a village I suppose. He's been musing aloud, on a show. Several times in a row now.'\n",
      "*****************\n",
      "*****************\n",
      "'ya my son has special needs so ya all kids. most people aren't comfortable w special needs kids. It is hard to find guys who can see past it and want to develop a relationship with him :(  I can...|||who said anything about swooning and grand entrances or filming things...I think that would classify me as a poor porn star....and are you questioning my integrity ???? why would I claim to be INTP...|||maybe....r u muscular and tan with hazel green eyes ....up for 72 hrs of carnal pleasure|||be open and flexible to kitchens they can be fun places for more than just cooking;)|||nobody else wants to smack me down about my fantasy man?|||stop being voyeurs and reply....u scared rabbits LMFAO|||I cook too and I'm not messy so I don't take offence to all the generalizations ......why u hate'n on my fantasies and why does it have to be a fantasy to want a completely functional...|||so you r tidy because of ur woman and why don't you cook with her as a part of foreplay maybe u can learn to enjoy it:)|||LMFAO....so there's a line and i'm cutting in you say?????|||eye patch complete joke   and the twins a carnal pleasure bucket list thing....everyone's got theirs this is mine LOL|||expound ....what's amusing and concerning ???? ESFJ|||I was asked recently what I wanted in a partner and I replied  real life saint  family man 35-45 that is emotionally,financially and spiritually stable good with his tongue, hands, penis and...|||Lmfao|||Im not the tidiest person but im not a slob....why are INTP s so messy LOL|||so you are not family oriented....you don't like kids and you're starving surrounded by your mess LOL|||I was asked recently what I wanted in a partner and I replied  real life saint  family man 35-45 that is emotionally,financially and spiritually stable good with his tongue, hands, penis and...|||I agree and it does make sense. I agree that it is healthy to want to be liked and belong to something or believe in things that contribute to a greater good or the welfare of man...|||wtf....r u talking about!!!!!|||I think you are speaking of being authentic:) and you have to know yourself and be comfortable in your own skin to be you. Some people fear judgement and act differently because of it. Some people...|||Does it drive you crazy !!!!! I can't believe the lengths people will go to . I know we can be wierd at times but I usually only share that with close friends dumb asses I just avoid like the plague...|||Has anyone ever experienced being singled out as crazy because others are so stupid and can't do their jobs so they get several people to say everything you say and do is wrong and you don't know...|||you guys are cute :)|||I find people get offended so I do it to find out how to aviod land mine topics with them. I do the complete opposite with people I know I do not care for. I will bring up topics that I know will get...|||any other oppinions out there or is this topic toooooo hard to deal with?|||no not as you discribed it. he may be shaming you but does it make you feel unworthy or irrevicably flawed or find it too painful to deal with him.|||We feel shame that we don't value what is crammed down our throats. the right car, job, partner, $, house, religion, peer relations etc... because we value empathy, truth, justice and authenticity....|||shame is different than guilt and embarasment.  shame is more like you feel you will never be able to meet (X's) social, family, gender, school, work etc... expectations and some how you are...|||what are your thoughts on shame  what would you define shame as  how much does it affect you  has it created barriers  what do you think of it's antagonist empathy|||I have been trying to figure out the major barriers in life and this is what I have come to find is at the core of every issue:shocked:|||What do you consider a lie?  How many forms of lieing are there?  Are there ones that are more acceptable than others or is it black and white for you?  The ones that are the worst for me...|||just curious..... what is the most demented thing you feel out laughing over.  in Plup Fiction....when you have to kill absolutely every mother fucker in the room...|||I understand were your coming from yet my son is in the 1st grade, has ADHD,SPD,ODD, PDD-NOS and a gamet of med. issues so the rules like following instructions, staying seated, completeing work,...|||I need help with my son's teacher. I think she is an ISFJ and we are totally clashing personality wize. I have had to help her understand my son's disabilities and in the process have had to question...|||crop dust them in thier cube/office|||tooooooooooooooooooo funny|||that are not aware they are stupid!|||I love you guyz'z humor|||how many of you are teachers?|||I am just curiuos how many INFP are teacher?|||it doesn't change with age........ you either become more discusted or find ways to reframe others perspectives :P|||the wisest person in the room is ussually the one who has made the most mistakes,  l earned from them by finding functional solutions and...   found  functional applications for the knowledge...|||you are projecting you're issues onto her. She is not rejecting you she just does things her own way the NT way........ it is not the same as the SJ way (some similarities at times though). my first...|||look what I can do. look what I have don't you wish you could have it too. I love me and so does everyone on the planet and if you don't you are a loser with bad taste, the worst dresser and have no...|||you are hellllllllll arious|||It looks like you have found enightenment;) Mental sparing can release tention, help you know what and how your oppontent thinks and braoden your views or find the novelty of an issue. ultimately...|||that is tooooo funny|||why do you need a rake? do you have small hands or are they broke?|||isn't that what he is doing already?|||you need some tissues for your issues? LOL  why don't you just go fight club on your ass!!!!!!!!!!|||It is funny I was shopping at target the other day and came across some smurf stuff. I used to love the smurfs... anyway I bought post its that had vanity smurf looking in his mirror saying I love...'\n",
      "*****************\n",
      "*****************\n",
      "'I realized I am not ENTP, but ENFP.  WOW.   I would like to apologize to the many who stated I did not seem ENTP, although there is only a mere difference.  I apologize, however, most of you...|||And I completely agree with you, but given that I haven't gotten to that point in my life yet, it just made me wonder.   I tell people I'm an optimistic but I think to my deepest core I'm...|||David Foster Wallace's famous commencement speech  To the point:   https://www.youtube.com/watch?v=DKYJVV7HuZw The whole speech: https://www.youtube.com/watch?v=PhhC_N6Bm_s  If you have not...|||ENTP  You're really smart, but in a way I haven't come across before Something about you is just...different (in a good way) You always seem to get me You're the perfect ratio of ass...|||Very, very interesting.  I feel like this really hit home for me, a thought that, for whatever reason, I have been unable to muster up.  I'm 21, and when I am away in school I feel ENTP, but when I...|||Your goods would be my more typical goods, so we're right on point there! Writing is my forte, or so I think and am told by professors.  Our bads are very similar too. Outside of math, and I...|||Make a list of some things that you can easily distinguish that you are really good at and really bad at, in a natural sense.   Three to 10 each I would say, but just run with it. (focus on things...|||I mean, I'm ENTP and can get along with basically anyone with a brain.  The types I have the hardest time with are people stuck in their ways or those who cannot comprehend things outside of what...|||Well, I haven't used it in a while and I still feel the effects.  I didn't chose to go in-depth but that's exactly what happened.  I tripped on shrooms recently and chose not to think deeply, but I...|||This post is for those who have tried LSD or know someone closely that has had long-term effects.  Just wondering if anyone has tried LSD and how it has affected them.  For those who are...|||ENTP, been in a relationship with ISFJ for 2.5 years....ending it this week.  She shut down, became too obsessed with pleasing me and less with pleasing herself.  She became unsocial and lost her...|||Seriously...me too.   Not to get all serious and shit (but clearly that's what I'm doing).   I have plenty of friends and social interaction in real life, but I feel like the media/social media...|||ENTP/INTJ team would probably have a better strategy and be more creative -- as well as communicate on a deeper level.  ENTJ/INTP would probably create better equipment and be more ruthless-- as...|||BTW! I was hoping you would jump on the word annotated -- I meant denotative. Haha! It was not a test, I truly messed it up...but I was expecting that to be your leverage.  Bravo for taking the...|||Well, there is no doubt you're ENTP (haha).  I hate to keep boasting, but I truly have never met anyone like myself.  I have met other ENTP's (2 very recently have become good friends), but there...|||HA! No. I see what you mean, but in my head I'm rationalizing it based on the fact I know who I am rather than who I wish I was.  I am prissy about it because people are blatantly (to me at least...|||You weren't disrespectful in the connotation that has settled in America, but you were disrespectful in the annotated meaning.  By that I mean, you did neglect the fact that I clearly had personal...|||Yeah, I'm existentialist too.  OUT.|||I really just do not care anymore; I have a meeting at 11 tomorrow and a cumulative exam at 1. Then, another exam on Friday.  Then, I'm gonna go ahead and go sky diving on Saturday, and display the...|||I give up, seriously. haha   Thank you for all your responses.|||Or.....maybe I am a complete and utter dumbass and have COMPLETELY mistyped myself over the past 2 years.  BUT THANK GOD, there are plenty of genius's here that I can go to for such profound answers...|||Probably because I have made connections with each thing I stated with respect to myers-briggs, but I would have a hard time explaining why or how. It's all relevant, just not immediately.|||Surroundings: I only pat attention to people and my thoughts -- seriously.  I do not know how to get anywhere, and if I do it is based on working my way through my head with visions like an aerial...|||I meant his Iron Man character. I do not know a thing about RD Jr's personal life outside of cocaine.   If that is still Se dom...I'm shocked|||Hahaha thanks dawg|||I was laughing at his breakdown...it was spot on but harsh.  The INTP that I know well truly means no harm, but his personality provokes the opposite.  I can't generalize you with the one INTP that I...|||b|||Would you like a run-down of my life for an understanding of my ENTP typed reasoning?|||I think there may be confusion when I said important things that I am not bullshitting.   Look here from OP:   ....sorry I am a bit too lazy but honestly too busy to look into it. Yes,...|||........hahahaha|||Haha ohhh no, most of the hispters that I know come off much more S type --living in the moment.  However, this does not pertain to all of them.  It depends on the pairing and in-turn to it's...|||I am envious of s types but I , to my core, do not have a more positive view on them.  I cannot help but find them less intelligent (which I understand could be a million year conversation in...|||I'm sure there isn't a connection (not actually sure hince the inquiring but couldn't think of a better phrasing), but I could count to infinity at 4.  I remember sitting in a room getting...|||Yes, sir.   http://personalitycafe.com/entp-articles/14767-development-entp-children.html|||Honestly though, you have to know yourself.  INTP's tend to be very arrogant about their views they provoke to the world and discuss towards other.  It is like an INTP to want others not to have that...|||Well sir, I respectfully disagree.  I am open to the fact that you may be correct, but I find it extremely hard to believe.  I guess I'll look into things more before I keep parading around forums...|||I am definitely a thinker.  That response is not out of desire to be one who thinks, but out of complete careful observation of my life and concluding that I am one who thinks way too much and too...|||Based on this, I would definitely be ENTP.|||if there is one letter I am most sure about, it is N over S.  My father is deeply S (ESTJ) and this has been whom I've learned to be practical from.  I freaking love theories (if you've seen any of...|||Most often, I come up ENFP, but ENTP seems to fit my description better.  Tests are shit -- research yourself. I understand and I have, but I feel like I am a near perfect balance. I'm both. ...|||seriously....same fucking thing|||No problem, I've been there.  A really rough period of my life where I shut down and started living in my head.  Take the initiative to go out there and just do something and get yourself out of that...|||I had it all up there for a bit but it didn't get any acknowledgement and I couldn't find how to delete the thread. haha  It's basically having to do with me being ENTP, about to end a 2.5 year...|||hey|||The Achilles Heel of ENTP's:   dum, dum, dum....    : REDBOX  1. I'm under the impression that a lot of ENTP's like film (intellectual, able to stare and read people without consequence,...|||I may have, sort of, you know....started one. I can change the OP that was just talking about the story I posted.  Unless you mean, stories we write ourselves. ...|||Alright joker, well said.|||Well you seem like J; whether that is judging or a joke, I do not know.|||Haaaaaa I'm interested in the explanation. I find it over-the-top but accurate in a lot, a lot of ways.|||This is Me x96 an ENTPx92s Personality Breakdown | Backwards Time Machine   just read...and comment your reactions here.'\n",
      "*****************\n",
      "*****************\n",
      "'Lol that's what I figured it meant but then I was like, no way|||I don't speak Hindi all that well. You're supposed to tell me :( Come on tell me please|||Lol I  don't know what that means. Please tell me so I can laugh  too.|||Yes. I already saw this video xD I like AIB. I think they're insightful with their comedy.|||I suppose I'm one of those? I've had my mom tell me that my standards are too low when it comes to looks and that I can aim higher. I really really don't care how a guy looks. In fact, I'm currently...|||I asked about enneagram. I don't need mental health advice. My psychologist and psychiatrist have degrees in this stuff. Do you even have any mental health issues?|||You have no idea what I've been through. I have no need for this advice. I've heard it all before a thousand times. Thanks for the concern though. Also don't compare my life to a garbage can. It's...|||I typed myself as an enneagram 6 a while ago but now I'm open to the possibility that I'm not one.   Here's something about me; I was diagnosed with Borderline Personality Disorder and I'm on some...|||I watched the video. It's interesting how she says she hates Si. She probably doesn't know Socionics but that made me laugh because you probably couldn't be more stereotypically ENFJ since ENFJs are...|||You probably already know one and you didn't realise it. Anyway, it's not like you'll get along with every single INFJ you meet|||I probably will not like you because you're a black person - racism  I probably will not like you because you're a trans person - transphobia  I probably will not like you because you're a gay...|||Lol typical. You have to make this about me personally. By all means go ahead but this statement automatically invalidates everything you have just said. Now I know that you are just going to take...|||I think so too. It's weird how people say mean things about ESFJs and not about ENFJs when the same stereotyped behavior is applicable to both. I think people type good ExFJs as ENFJs and bad ones as...|||Despotic Ocelot has told me he can't receive messages or do anything else until Friday. :) So just wait till then :)|||Because being with people is fun. We are genuinely interested in other people and the only way to become friends is to get people to like us. If you find this annoying, that's okay because not...|||Yes I do like watching those shows. I also like trying to figure out how things will go or what's going to be the outcome of the story. It makes me feel smart when I'm right. As for relating to the...|||After reading this, I have to wonder how much you actually know about typology. A lot of this is typism. A lot of this isn't true. A lot of these are attributes applicable to other types also and not...|||I'm not entirely sure. I had a hard time typing myself as a six but a good sign would be anxiety. Six's are anxious and unsure of themselves though this may show in different areas in life or in...|||I like this thread very much but I came in here and saw a lot of hatred for ESFJs (*cough dragonhead66 cough*) I thought I could explain a few things.   I have borderline personality disorder (BPD)...|||I consider spirituality to be complete bs, used only by people as an excuse to escape the real world we live in. The soul doesn't exist. There is no God.   This is my belief,|||Lol this guy thinks he's an ENTJ|||I'm currently engaged to an.INTP. What worked for me was being forward with my feelings. Just tell the guy you like him. This works for humans in general. Not just INTPs. If you don't make your...|||The bolded is so true for me. But now I'm engaged to the best man I know. I did it by just sticking through with him. And he's a really special guy. He refused to let me go. At first it was hard but...|||Okay I didn't mean to sound harsh with my earlier reply.  It's just, for me personally, I have good days and bad days, even with the pills. So sometimes, I reflect on my actions later and feel like...|||I am diagnosed with BPD. If you really have it, I'd say get some help. It's not something to deal with on your own. Also, don't get into any relationships without getting any kind of treatment....|||Home? Not really. Typology is just a hobby of mine. I don't really pay much attention to it IRL. I like coming on here because more people seem to be interested in the same hobby I am. But the sensor...|||Here's some advice from social butterfly ESFJ. Just go do it. :) Trust me, he won't say no.|||I think you might be depressed. I recommend you talk to a therapist or something. Maybe a little medication can help you.   In the meantime you can do uplifting things like working out, meditation,...|||What kind of things do you write about? There's no right way to keep a journal. You can't force yourself to write stuff. Just put pen to paper and write what comes to you naturally. It's okay if your...|||This post is perfect :) I never understood why people hate ESFJs so much when in reality, we probably have the most number of friends. I think people just need a scapegoat to blame for their lives...|||They're people. Just like sensors.  Some are annoying. Some are insufferable but most are okay, a few are even great.|||The split doesn't offend me. Never have I said that it has. You on the other hand, do.      Oh please take your self pity elsewhere. I have full right to feel whatever I do and talk about...|||Do you ever feel lonely an misunderstood? Like an outcast? I do love people yet I find it hard to find a place I truly belong.  Is it just me, or do other SJs feel this way as well? I see a lot of...|||Wow this offends me on so many levels but let's put that aside for a moment.   I hate how people dumb down S functions, like Se is a simpler version of Ne and Si of Ni. I'm just going to say...|||Hi. Welcome to PerC :)  We can be friends|||I have really large eyes and kids get scared when I stare at them with wide eyes. I used to scare my brother all the time when we were kids. Lol my boyfriend asks me to stop doing it too sometimes xD|||That's simply your personal preference.|||I can talk with both intuituves and sensors. Maybe the problem is with you.|||Lol|||I'm a hard core capitalist and the OP is annoying.|||We need to end the disease that is socialism.|||When I'm with my friends, it depends on what we're doing. If we're trying to get something done then I can really just focus on the task at hand. If we're just having fun, I can be really talkative...|||Lol I had this exact problem. I used to identify as ESFJ but I am sure now I am ESTJ. I am a very emotional thinker I suppose. But I know I'm an ESTJ because I don't feel the Fe need for harmony, and...|||Why the facepalm? >.>|||I just discovered this thread. It's good to know you haven't changed much.|||By what virtue do you think you're superior to them? Is it simply that you despise the rich? I believe, unless you have something to show for it, you don't really have the right to claim superiority....|||What do you mean by shallow? From my experience, it is possible to have deep conversation with S types.|||http://i.imgur.com/lwfy4ZV.jpg  http://i.imgur.com/0AYvfDj.jpg  http://i.imgur.com/kjuZJvs.jpg  http://i.imgur.com/YgHXpay.jpg|||Omg I'm only seeing this now xD   Congratulations Mooni. I want to be like you someday. Because_why_not you have some catching up to do.|||Is that the MBTI definition of intuition? If not why use it to describe N in MBTI?   No NFs are not androgynous.'\n",
      "*****************\n",
      "*****************\n",
      "Hello! :') Welcome to Personality Cafe!|||They taste different.  I like yellow pepper the most, because it's sweeter than the others. Then orange, then red and then green (it's bitter!)|||I rarely wear makeup, because I don't think it's necessary.  Not that I do not care about how I look (actually, it's quite important to me. :$) But I think I look pretty OK without makeup on, ehm....|||Nause - Made Of|||Daniel Adams-Ray - Dum Av Dig|||I love jazz, blues, pop, soul, rock and country. Even some classical music. So I can listen to most musical artists. But my favourites include: Nancy Sinatra, Caro Emerald, Adele, Dolly Parton,...|||Your type is ESTP Extraverted Sensing Thinking Perceiving  Strength of the preferences % 89 75 25 33   You are: very expressed extravert|||Pretty good. But chocked for several reasons.|||INFJ/INTJ. Ravenclaw, always (I got Gryffindor, once.)|||I like my voice, but not my dialect.|||I really love felids. All of them. I also like wolves, owls and eagles, because I think they're cool. 8D And pandas, deers and dolphins cause they're cute! ^^, And horses!  ... I like most animals.|||Noodles. Simple, but tasty. :3|||Thanks for the welcomes everyone! :'D|||Hello!  I'm a sixteen year old girl from Sweden. My name is Agnes, but I recently changed it to Agnés (because I love french, hehe.) It's not a big change, but I like it more this way. :3  I...|||Personal Name: Agnes. I don't think I have any nicknames.  Male/Female/Trans: female Location: I live in Gothenburg, Sweden, and this is also were I was born.  If I could go anywhere I would go...\n",
      "*****************\n",
      "*****************\n",
      "'http://tapatalk.imageshack.com/v2/14/09/02/b9f805136d146f5280a6bd3a52db034e.jpg|||We spot someone walking with a water jug filled halfway with light blue liquid.  ESFJ: That looks like antifreeze.  ENFP: Oh my god, it does. INTP: You guys think someone would just walk around...|||My greatest love was a fellow INTP. Seven years later we still talk and catch up every couple of months. There's still a lot of feelings on both sides, but it would never work out. Our INTP^2...|||To witness white power and eat bacon  Name a reason to not visit Texas|||http://s.likes-media.com/img/82a1d9d0a99ce4d9ccbac8b47692eea7.600x.jpg|||Unless that water was turned into a life elixir by Jesus, then no. That was just a side-effect of the disease. Rabies affects the central nervous system, so while giving the patient water would help...|||I'm starting to see a trend in our personality's dislike of this book.   Also, Catcher in the Rye and also anything by Steinbeck. Blergh.    I'm curious to know what everyone's favorite classic...|||lol!!|||https://www.youtube.com/watch?v=dQE-DXsozg8|||He-who-must-not-be-named    A job  What is black and white and blue all over?|||Queer Eye for the Straight Guy  What is an essential necessity for life?|||Looing at Sandra Bernhard through beer goggles  Name something that you hold often|||Yes, you can treat rabies, but if not treated it's fatal. I think currently there's only three cases of patients who have gotten rabies and lived without treatment.|||It never said, but I hope that's not her real face haha|||If I told you, I'd have to kill you.|||Me: What would you do if I died? INTJ: Move on. Me: ::gasps:: ...seriously? INTJ: ::laughs:: You're so emotionally affected by that. Me: I refuse that answer. What would you really do? INTJ:...|||https://38.media.tumblr.com/fe3efe81d8fff82387d8a4329eb44388/tumblr_na66gm8cQ11qdlh1io1_500.gif|||176554  Right after basic training when I got to see my dog. Love her :blushed:   176730  My allll time favorite photo with a friend: 6'2 vs 4'10.|||You just made my day|||https://38.media.tumblr.com/e17ac6dd8bf0e95bb84d0b7c391914a4/tumblr_na60a0qIRY1qdlh1io1_400.gif|||I'm extremely aware of the religious connotations of that phrase, which is specifically why I used it.   Not a fan of the religious undertone? Let's replace it with one of my favorite quotes by...|||Wouldn't accepting a meaningless existence, in turn, be creating a platform meaning that there is no meaning? Are the Siths still dealing in absolutes?     Did you ever read Sam Harris's Free...|||http://media.giphy.com/media/XIOBXDH9lVTz2/giphy.gif  What.  Will you be my Obi-Wan? Teach me your brain waves?|||lol!!|||Is your avatar Putin riding a bear?|||My go-to is sweats/leggings and a shirt. Or running shorts. Why can't I just wear those everywhere? But apparently I can't.  What's with the new cut-off shirt style for women? And the 3 short...|||Exact same experiences. It's the micromanaging that I have encountered with them that brings out all of my negativity. They've also always felt the need to take charge as well, even though they have...|||My best friend's hobbies are, in no particular order:  Bragging Arguing Manipulating Sales meetings (see manipulation) Data sheets Professing their awesomeness Game of Thrones Cats|||Church  and a goal-setting meeting lead by an ENTJ. It lasted two hours. It was horrible.|||This cat's derp face while being interrogated:  Do you want to know why I use a knife?|||Untitled|||Oh my god, I laughed so much at this. My SO, two of my best friends, and brother are all ENFPs, and everyone is my friend is their life motto.   I love going to social events just so I can watch...|||http://media.giphy.com/media/K2SjgIYQoae8E/giphy.gif|||The INFJs and ENTPs in my life always seems to gravitate towards one another. One is a married couple, and the other is a questionable bromance. Both pairs are always arguing and misunderstanding one...|||Don't get caught up in society's expectations, and never do anything for the money.|||The most effective, brilliant brain washing system. They really kill you with guilt, morals, and love. It will mindfuck you for years after you leave. I applaud them for their ingeniousness.   When...|||http://youtu.be/-moG6JDmJdc   Caution: graphic and morbid, but very interesting, especially if you have micro/virology background|||If you are afraid of doing something, then of course you have to do it.|||https://i.chzbgr.com/maxW500/5233888000/hD9B0C2EA/|||For once, no sarcasm. I really did enjoy it!    She. And I think it takes a particular dry humor to laugh at toast.|||Why was this so funny. I died|||That was horrible advice. Please refrain giving relationship advice in the future, especially when it involves a marriage.|||I. Love. INFJs.   I've only known two, but they were both so witty and funny. I love philosophy, and they both understood the subject at depths that I didn't know was possible. INFJs are the only...|||Yes, he's taken up photography and just invested in a new camera. I am really hoping that he will, as you said, just pour of all his energy into that. He's also very social so I am not worried about...|||My ENFP friend confessed, while chewing gum, that she was starting to like the taste of spearmint. I excitedly started explaining how caraway and spearmint, despite being so different in taste, are...|||:frustrating: I cringed just reading that. I do a lot of crazy things for my ENFP, but I don't know if I am capable of that....|||::applause::|||I can't believe I am asking for advice on a web forum, but it's the most logical route since there's hundreds of you to pool from.  I am about to deploy for eight months. My husband is the typical,...|||We are all linguists|||Most of the advice has already been given, but I just wanted to pose the thought: are you on the path you want, or are you on the path that society is telling you to be on? I am asking because you...'\n",
      "*****************\n",
      "*****************\n",
      "'I think the experience you described is incredible. In your mothers time of complete vulnerability, you were completely there for her. I think that is exactly what she needed, and your sensibilities...|||I actually know quite a few INTJs.   Younger brother: He's rather neurotic, but only because of some fear of being vulnerable. He's a varsity baseball player and he's actually getting some...|||I am majoring in math. Specifically math education. I like how objective mathematics is. I have gotten very very tired of catering to English and history professors opinions. There is none of that in...|||Keep on keepin on!|||It's decidedly postmodern, which is difficult to find in film and I really love that aspect about it. On the other hand, it seems like a bunch of spoon-fed ideas from philosophy lectures that I would...|||From a functioning standpoint, I believe introverted feeling as our dominating occupation seems to affect a lot of us into coming off as sensitive, complacent and weak. Many INFPs seem to help others...|||Oh lawds. Yeah I was talking about Phillip LOL!|||LOL I'm trying to think of Fry as a hero in a classicist context and I can totally see where your coming from. His story is truly an epic.|||My mom is ENFJ and my dad is ESTP. For the most part, they encouraged me to think independently and to be myself. I have two other introverted brothers (ISTJ and INTJ) so my parents don't see me as...|||Walt Whitman George Harrison The current Dalai Lama Noam Chomsky  There's more I'm sure hah!|||Hey I agree :D. It's impossible to type all of humanity into 16 types and I think all of this is just pseudo-science anyways. Nevertheless, it is a good tool to help critically analyze yourself and...|||I think that love as American Hallmark co. culture defines it has implications of divinity and I'm an atheist. On the other hand I'm obsessed with my girlfriend and I want to spend every waking...|||Harry Truman LOL!|||I notice people try to but I'm good at keeping things like that level. I think growing up with two brothers and being the middle child probably helped in this case. Checks and balances yo!|||Oedipus Rex is an interesting play too.|||LOL I could go for a little male/male cuddling. I mean, so long as I'm the big spoon. On the real though too far for me is when affection turns sexual. It's got to be appropriate, ya know?  As for...|||It takes no one to know one. I say fuck sacrificing authenticity for the sake of the group.|||I find myself associated with intuitive people. My girlfriend is ENFP. My best friend is INTJ. This doesn't mean much though. My older brother is ISTJ while my younger brother is INTJ and I relate to...|||I'm not familiar with you but I am familiar with college life.   Pro's -I love learning new things, participating and listening to class discussions    A lot of classes are very large lecture...|||X-Ray vision >:D. JK though LOL! The ability to fly would be pretty cool and so would super speed. Either or!|||Does 4chan count? >:D|||I'm weird. I will often act cofident yet reserved, kind, intelligent and funny while other times I will not give a girl the time of day. It really depends on my first judgements on the person. While...|||Being an INFP is pretty cool I suppose. I mean, I feel like I'm just another person in the structure! Everyone has a role and I'm just playing mine. I don't think I'm hiding like you suggested, but I...|||I've been to jail. I mostly read the books that they offered. I stayed in my cell the majority of my time reading the cheesy romance/self help books that they refreshed daily. I had two cell mates....|||I buy clothes from the internet mostly from stores like Urban Outfitters, American Apparel, and Levis. I thrift too. Some people are thrift junkies but nothin's better than a nice new pair of Levi...|||Living as a hermit is a novel and romantic idea but I'm too attached to society and unfortunately, I can't grow a beard :(|||I would say something like don't be gay. He's just messing with you. On the off chance he isn't, don't let him take advantage of you. Keep an even playing field.|||I used to smoke a lot but  have since quit. The majority of my friends still smoke so I am around it often. I think that exploring the opportunities of the mind, whether it be drinking, smoking weed,...|||I play a light side Rakata Imperial Agent. I chose the operative spec and I'm conealement. I unsubscribed today hah!|||I too worry about my mark on humanity but I don't quite grasp your question.|||Hmm, after some reflection I value questions more than answers. Answers static and constant. I prefer the fluidity of questions and the process of creation as opposed to the end product. I guess in a...|||I don't have one!|||After graduating high school, I went against the grain of my friends who went to the large party school and enrolled in a very liberal and fairly large school in a hip little town. I expected...|||I often come of as a stand-off or perhaps otherworldly but when I like someone I usually open up a lot quicker than normal to her. Taking interest in what they have to say in hopes that they...|||I can relate to that! I always end up healing end-game in MMO's because it's a fun role and I relate to the classes and play-style way more. I would much rather be a cleric, druid, or shaman as...|||My best friend is INTJ, he's cool. My younger brother is also INTJ but I'm not on talking terms with him LOL. I know quite a few INTJ folks though come to think of it...|||I usually just avoid people altogether. Problem solved! :confused:|||im an English major, but im in a cultural anthropology class right now!|||Woah. I haven't considered that. I guess the leap would be a realization. In my situation, it would need to be. I'm not talking about self comfort though it does follow what I'm talking about. I'm...|||I agree with a whole lot of what you're saying and thanks for the input. I feel like there is no truth in my subjective reality, which is a part of why I feel the way I do. I mean, if I took a...|||Unless I'm misunderstood, Soren Keirkegaard wrote that us human beings take a leap of faith to believe in the supernatural although there is no empirical evidence to support the existence of the...|||I am really competitive. I am a poor loser but in all honesty winning all the time isn't fun either. I guess what I'm saying is that winning or losing all the time isn't competitive. I like a level...|||Mom - ENFJ Dad - ESTP  Older brother - ISTJ Me - INFP Younger brother - INTJ  I think it's interesting that my extroverted parents had three introverted sons. Also, a family of five with all...|||I consider myself strange but I come off as pretty normal. With that as my skewed logic, I think everyone is strange, just burying their quirks a bit more than us INFPs. I knew an ESTJ girl once and...|||http://www.youtube.com/watch?v=wgW4EP8N9vc|||“When i saw you i fell in love, and you smiled because you knew.” God knows who actually wrote this and I can't speak for everyone but it's is true for me.|||In a short story I wrote the guy is probably infp, in that I related him to myself a lot but he was a bit of a hard ass and rather concrete and perhaps the girl is isfj but very manipulative. IDK!|||I appreciate the docility of ISFJ's!|||I just got my four day pass! Me and my girlfriend are taking a vdub vanagon down there, it's going to be awesome. Any other INFP's going to be there? What do you guys think of the line-up?  2012...|||I can't speak for everyone and I don't know if I really have a preferred type in terms of MBTI but I am attracted to intellectualism and I am dating an ENFP. We get along just fine!'\n",
      "*****************\n",
      "*****************\n",
      "'There is no right or wrong here.  I'm really glad you found something that works for you.  Just remember, we're all different and it's important to respect the individual paths we each choose for...|||Very nicely put.  I agree.  I think chinotto's qualifications are also important considerations.|||To my ISTP brothers (I realize this may be like herding cats):  I know it's frustrating being us.  I get annoyed and frustrated too.  But try to keep your eyes and your mind open despite all that...|||Yes!  You really are starting to get it.  What we desire is not within the confines of traditional social expectations for dating.  It's a very basic concept, really.  How to retain yourself as an...|||I think what chinotto is saying is not to go crazy pursuing her.  Just don't shut her out.  Don't write her off.  Just because you think she's higher caliber than you now, doesn't mean that's...|||Exactly.  And when they come back to reconnect, if one sees that the other needs some support, encouragement or a challenge, they can offer that.  It is about helping each other grow as individuals...|||I feel the exact same way, n2freedom!  100%.  We're learning a lot from each other.  It's pretty effin' cool.|||Wow.  Incredible words and mighty sage advice!  I think relationships with us will be about as genuine as any relationship can be.  And, you're right, a lot of it has to do with our respect for you...|||I shared this quote with n2 already and thought maybe it could help some people here:  If you have one eye on yesterday and one eye on tomorrow, you're going to be cockeyed today. - Anonymous|||Yeah, I think this is good distinction to make.  That's a great description.  We do need our loved ones to have a recurring subscription to our hearts and minds.  Without it, we can't trust that you...|||I've found that I have to really watch myself around guys who feel they have to overcompensate for their lack of confidence.  They often feel threatened by my effortless, natural confidence.  I'm...|||Holy awesome insights!  I think I struggle a lot with trying to understand how much I protect and value my love and trust.  I guess I've always had a hunch that my love is virtually free of...|||So many good things here to keep me thinking!  I honestly can't get enough.  You are absolutely right when you speak of our love as being pure.  There is no bullshit attached to it.  No strings. ...|||Aw, thanks.  If I've been able to help you see beyond our tough ISTP exteriors, then I feel I've done my job.  We really are softies at heart.  It's just that few people actually get to experience...|||That is the million dollar question, isn't it?  I struggle with this incessantly.  I have a very difficult time recognizing when someone really cares for me.  I think, first and foremost, I have to...|||When I was younger I used to do this all the time.  I was absolutely clueless what the other person sought and needed.  Still, I'm no expert but I think I have better clue now.  I've learned to move...|||I know.  This is one of our huge flaws.  Difficult to contend with on the receiving end.  I have apologized for this often.  Lucky for me and my loved ones that I rarely get bored nowadays.|||This is something that has taken me time to learn.  Words go a long way with people.  While I may not need you to say I'm sorry to me, I need to be able to say it to you.  Recognizing the...|||The reverse is true, too.  If I hurt or piss off someone, I'll typically say a quick I'm sorry and combine it with taking them out for some fun activity.  I know they need to hear the words, but...|||Wow, I think this is very important.  I like your bandwidth analogy.  That's a great way to put it.  Our ability to process our emotions is stymied by our low bandwidth.  It's much easier and more...|||If we're bored we'll mix things up just to get our fixing fix.|||Awesome insight chinotto!  Great things to think about here.  I'd say that we are very good at pushing people away.  Whenever we feel intense feelings that we don't understand, we freak out and...|||Thank you, tokyovogue.  Your sharing helps many of us trying to figure some of this stuff out.  I know what you mean about limbo.  I also feel I'm in that zone a lot.  I think the best thing you...|||You do know the feeling is mutual.  Absolutely, 100% right back at you.  We mean it when we say it, too.|||Perfectly said.  And yes, I was surprised.|||This is great advice!  I tend to take measured risks like this, too.  I know many people who dive right in head first, but that's not my style.  I'm very much in favor of balanced risks.  It's helped...|||Unfortunately, I don't think there is a magic bullet to speed through our WTF years.  I think all ISTPs experience them in one form or another.  It's the price we pay for spending our valuable energy...|||While it's difficult, give yourself some time buddy.  When I was your age I always related better to people who were older than I was.  The age gap will condense and you'll feel much more...|||At chinotto's suggestion, I'm going to share this tidbit.  Hoping to help some of the younger ISTPs here, who undoubtedly find people and the subjective world of emotions mighty confusing.  It's...|||Abso-effin-lutely!  Cheers.|||Had to laugh.  When telling her how to get someplace, my mom will always ask me to give her mom directions.  Meaning include lots of landmarks and spatial clues to help guide her.  I can relate.|||I think we don't think anything is there because we aren't versed in the language of feelings.  We don't acknowledge emotions the way they do.  But this is their first language and they see it within...|||Wow.  Just wow.  So true it cuts right through me.  Epiphany upon epiphany.  Incredible.|||It think that relationships with us are so difficult and weird because we don't abide by traditional social expectations.  Usually, people can relate to each other rather easily by consulting the...|||Aw, thank you!  Yes, I'm getting better at accepting compliments.  Still not the easiest for me, though.  I'm still searching if that's what you're asking.  It's hard for me to describe what my...|||Oh boy.  I may regret this.  Where to begin?  First, let me say many of these assumptions have been proven false.  I've learned a lot since I first formed them.  I used to think that outgoing people...|||I love your circle metaphor.  That's exactly how I view my relationships with people.  It's never a straight-line trajectory.  Indeed, still waters do run deep.  It still amazes me how easily you...|||Heartbreaking.  If the emotions you're reading from us are telling you we dig you a lot, you're probably right.  We'll likely come to the same conclusion, but it just takes us a lot longer to get...|||Holy wake-up call!  I've never looked at it this way before.  You see so many things in us that we don't see ourselves.  I'm amazed.  Impressed.  In awe.  When you put it into these words, it becomes...|||This is exactly what we need to hear!  I think communication is key to any relationship, but especially with an ISTP.  It's probably more difficult with us, too.  But we are more than willing to be...|||Absolutely spot on, my friend.  You took the words right out of my mouth.  It's nice to know I'm not alone in thinking this way.  Thanks.|||An ISTP combusting can take on many forms.  I can't really speak to how it looks to the outside observer, but when I combust I go into a panic.  My reaction to that panic either involves fleeing or...|||I will have a proper response soon enough, but thought I'd respond to this bit in the meantime.  That's a difficult question to answer, but I'll say that if he's about my age, he's in his prime age...|||It sounds like you're starting to figure things out.  I will say, though, that if you have any feelings for him that go beyond sexual, you shouldn't give up on him.  But, if you don't think it's...|||Please don't shut up.  Going to the gym is always a great idea, though.|||This is all great stuff!  I think this bears repeating, pretty much everything you offer him, you have to be willing to give him w/o contingencies? You have to give it to him because you want to,...|||Before I get back to my introspective postings (chinotto has me with much to say!), n2, I wanted to address this because it's time sensitive.  Every situation is different, but over 2 weeks seems...|||Keep it comin'!  Your thinking through your writing helps so many of us.  THANK YOU!  I think I have thought about past relationships a bit, mostly to figure out ways I can fix what went wrong.  To...|||How do you tell a writer to stop writing?  How do you tell a runner to stop running?  How do you tell an ISTP to stop fixing?  You can't.  It's in our bones and in our souls to help, to fix.  We give...|||Woa.  An ENFP with guarded emotions?  He must have really did you in.  I can relate completely.  That sucks.  We learn a lot from these situations, but we're never really quite the same are we. ...'\n",
      "*****************\n",
      "*****************\n",
      "'Conclusion by vague confirmation bias. Lazy, self-serving... could definitely be a young ENTP|||Definitely an S. An N would have found the letter somewhere on this page and copy/pasted it. For future reference you can also use ALT codes, but must use the number pad. G=ALT-71 and g=ALT-103 ...|||Yes I would... probably :||||Yes, because we live in a society and I understand that not everyone (ok, few) function the same way that I do. However, I do trend toward giving people what they need, not what they want. Some want...|||Anyone can show me someone ELSES boobs. Also, achievements are over-rated; it's the pursuit that motivates life. The best things always remain *just* out of reach, while always giving you just enough...|||And you sound like every person on social media who doesn't understand an argument, has no intelligent response, and hopes random accusations make you look observant somehow. Now if you don't mind,...|||621018|||It gets more interesting when you bounce between the observations of the many engaged witnesses. Observing is fun, but I'm ready to move on from this specific subject as well. Suggestions?|||ISTP's are prepared to die for their poor choices, because they can never admin when they made a bad decision. He knows he looks like an idiot troll, but cant/wont stop because that is too like...|||Banned for what? He's not hurting anyone here, and is kind of cute with his desperate need for validation. He reminds my of Bentley. Just too cute, yes he is. Woof.  ...|||Isn't he though? Those eyes....|||Is it ok if I don't read the thread? ISTPs have a strong need for recognition and appreciation, but they are loath to admit it. It bothers them when we get all of the attention because people find us...|||Gerontophilia; I'm not afflicted.  They should've used Yanet Garcia.|||Funny you say that. I wanted HRC to win, but kept trying to convince those who didn't hated trump, but didn't like HRC that if they didn't vote Trump would win. Given all of their responses, both to...|||Predictable, as usual. Not just you, people in general.|||Quoting and mentioning the same person in the same post is usually redundant.|||https://media1.giphy.com/media/BDdFSaaTTjPvW/giphy.gif|||Not usually, but I creeped you and could definately be convinced.|||Not this again. They are already great. In fact, I reject arguments out hand that they could be greater (general speaking).  I don't know, she has me feeling Slitherin  Yup, people (especially...|||Critical thinkers without mental health issues are rarely triggered. Could just be me; I have my own issues.  Not in person, no one here anyway.  There were few surprises in this election, for...|||Even kids operating websites out of their parents basements provide a secure logon. It's kind of embarrassing really. Best advice is to use a throw away email address, don't include personal...|||Desthro , seriously, put a shirt on ffs ;)  https://cdn.meme.am/instances/67421876.jpg|||Stay the course, you sound to be developing fine. Fi isn't easy, but you're are examining your thoughts and feelings, which is a great start. Councilors, if you have access to one, are great for...|||Again, that doesn't follow at all. You're all over the place. Of course others think differently, are working from a different set of knowledge, have different goals, come to different conclusions. I...|||That doesn't follow at all, but I understand you are just grasping at straws.|||To the world. The Econimists listed him being President as one of the top threats to the world economy. He will increase hatred at home and hatred of Americans and the west in general across the...|||And this is fine if you don't care who wins between Hillary & Trump. If you don't care which one wins or loses, if you aren't significantly more terrified of a Trump presidency then Hillary, then I...|||You don't really believe that with this is an original thought, do you? People have idealistically been throwing their votes away like this for over 100 years and it has achieved absolutely nothing....|||You're a wet dream come true for a whore. I mean attention whore. I mean troll. I mean lonely, frustrated, angry, brat. I mean KingOfEarth, which I'm sure isn't an over-compensation for a lack of any...|||He's just a childish troll, not even a good one. He might grow out of it, but I personally aren't even interested in what has occurs in his life to make him so bitter. There's always a reason people...|||Yes, I do it quickly and easily. By myself I don't put a lot of thought into it, but when demonstrating/teaching I'll be very precise while I articulate the actions. It's not that hard really, but...|||Ok, the truth is that most of the problems I've had in life can be attributed to my stubbornnes,  lazyness, and many excuses about why I wouldn't do it a way more likely to work out better. My last...|||How do you think we discover proven methods? Give me just enough for it to start to make sense, I'll get excited about it, then I'll jump in head first and see if I prove it for myself. The more...|||My horse stands too high, the fall is too far. I might not survive next time. In truth, this is probably just something I've convinced myself of and am much happier for doing so.    I can only...|||Don't get me started. Seriously, for the love of all that's good and natural, dont. Ever. Get me. Started. Again. Please? I'd rather except Christ as my saviour.|||I could see that. I might even resemble some of it. There's a bit of a difference though, I don't focus on protecting the victim, I focus on putting the bully in their place. I can see why you would...|||I'll avoid suggesting an even stronger possibility of actual narcissism, but they do it too, and would respond exactly like you did here when confronted; pleading ignorance of the outcomes of their...|||I wasn't offering an opinion, I was speaking objectively and with a basic understanding of human phycology. There are exceptions, but what you specifically described IS common anti-social behaviour...|||Common behaviour for insecure, unconfident people. They have a desire to excert power over people, but don't really have any in their life, and more often than not have been victimized in some way....|||#unsubscribe  You aren't so bad, ENTPs are generally a pain in the ass, but in different ways than INTPs. I definitely like working with most of you, as you are more competent than most other types...|||He has half-baked, short sighted policies at best. His platform is totally based on hate, national pride, ignorance and Trust me, I'm not a politician.|||I sincerely don't believe any candidate is as selfish as Trump. As for a 20% as opposed to 2%, we'll if you get that you'all have a Trump presidency. May the universe have mercy on your remaining...|||If you think that Hillary is as bad as Trump, and are indifferent to which of them becomes your president, then the whole conversation is a waste of time.  I say this without judgement of whether you...|||You did before, or after I mentioned it? No dont answer. I love the typical ENTP entrance: <find old duscusion, decide to enter> Nope. Now everyone else sit back while I explain to you why you're...|||Game, race, whatever; no need to be pedantic. Besides, many aspects of game theory do apply to politics.  Voting anternative is a great way to achieve smug righteousness in ones unwillingness to...|||You qualifications are self referectial. To be able to do the job you must be able to do the job...?  Not very insightful at all. Also... ...|||Mysogeny is a very strong word. Trump's borderline, but most of America is only sexist. That different.|||Do you realize that you just quoted and replied to a comment that is over 6 years old?|||Are  some people seriously deluded enough to believe that he has the best interest of all Americans at heart and is not just self righteous entitled prick?  Trump Tax Records Obtained by The Times...|||User name and type check out.'\n",
      "*****************\n",
      "*****************\n",
      "'I guess I've been experiencing the opposite a bit recently. I've definitely been assumed to be a girl on a few occasions, like you I don't correct them. In the bathroom I've gotten a lot more looks...|||i found that the only way i can communicate with my mom is through hypotheticals and metaphors (idk what type she is)  otherwise i would never be able to explain myself  when talking about study...|||you're making me wonder if i'm a sensor :P reminds me of something my XNTP family members would prefer to do. except probably unlike the s's, somehow theres always too many or too little parts and...|||my favorite mood is more of a contented and i like thinking ot myself. or when seeing particularly cool looking art or hearing specific music which is also relatively internal and its just like my...|||I've been told that and I guess it could be considered true. I think to the point of causing myself unneeded stress. There is certainly a benefit to ignorance but I see it as an excuse. I'd rather...|||I do that when reading books I like to read. then I have to go back and reread a page or two...|||Disappointed that Phoenix Tear pie isn't a thing :( (yeah I had to check. if dragonfruit is a real thing, why couldn't phoenix tears be?)|||Dad: easy ISTJ Mom: ummm... I'm thinking ESTJ but not quite sure Sister1: ISTJ Sister2: ESFP     I know what you mean there. Though I'd say more of don't understand more than don't get along....|||Vermont|||I like chess but am relatively bad. basically my three problems are not liking to lose any pieces, thinking too far ahead so I can only follow a couple of possibilities and me not liking to learn...|||just looked some of his quotes up and I agree. pretty funny. (and also am not very into standup)|||I wish I knew.... sometimes when something's barely funny I just start laughing and laughing.... most times I don't laugh at anything, just smile.   my friend punching me in the stomach made me...|||Don't you ever find the experience amusing or enjoyable? I find my ENTJ friend quite interesting and he feels the same about me. Its really interesting how we often reach the same conclusion using...|||I find it much less personal than text for some reason. its like a voice without a face doesn't give a full story.   also if you don't talk then you aren't doing your job unlike writing and one to...|||I'm not really sure and I'll never exactly be sure but it sounded nice/fairly right   and that type of reasoning makes me think I'm INFP :D  (seriously though(not that that wasn't. it was but not...|||nah she'd still be the best in my opinion but it just didn't fit me to lead right off with that. it was more of a Christmas after a couple months type of thing instead of a hike or something that I...|||well you are supposed to be the best you can be even if its better than you are.   I'd like to come forward and say I have social anxiety so I will probably be uncomfortable in a lot of...|||I end up with this in interviews and speeches etc. it usually works so I just go with it|||some girls think my nervousness, awkward and shyness is cute. I've been told I seem genuine and I get the feeling that the fact that they have to do a little extra work to get me to open up makes...|||one of the easier social things to do for me. might be because I've only done internship interviews and haven't had any particular ones that I tried all that hard to get.   Still nervous but not...|||I was once called pretentious for criticizing the annoying buzzwords that they repeatedly use in sports broadcasting.   I have yet to hear the word used in a constructive way and and it normally...|||sort of confused what you mean by implying that its hard to find feelers who aren't manipulative and controlling..... (maybe I'm reading it improperly because the negative things seem to be related...|||http://www.youtube.com/watch?v=iuv6aehPnbA|||I have quite the selective memory.  I'm very good at trivia but not memorizing facts.  I don't remember names dates or numbers.  I can remember stuff that I feel like is important to someone...|||when my family starts a diet, I eat too much. when I don't watch what i eat (and I'm not stressed) I eat a good amount.  stinks that my familly is always trying to diet|||I don't normally bump threads but there's a new movie that's coming out that looks pretty good from this.   http://www.youtube.com/watch?v=QD6cy4PBQPI  I just read the short story because I...|||Depends on what I'm wearing.   somewhere between grey, blue, and green|||21 still not yet. I don't really see sex as romantic. I plan to wait till I want to have kids but I want to at least understand why other people do it and I realize that if I understood then I might...|||Exactly. At one point I let my little sister take the blame for a speaker that I accidentally broke cause my dad was yelling and I knew he wouldn't blame her as much (despite the fact that it wasn't...|||Hataraku Maou-Sama  Mao: ENFJ? don't know if I know any irl ENFJs but his need to help everyone that he sees as a sentient being along with other stuff makes me guess it  Emi: ESTJ boring and...|||I get the feeling that other types would respond more positively to negative reinforcement. personally I feel the same way that you did from it and I tend to not tell my parents stuff cause they...|||I hate getting in a shower and I hate getting out of a shower :D  Baths are nicer until I realize that all the dirt from my body is now in the water and I immediately want to get out.   One thing...|||Rain and clouds are incredible. :)  rainy days actually give me energy  I also like streams and waves crashing on rocks (beaches are hit or miss for me. I like them better when its breezy/cloudy and...|||You are most similar to:    Allison (The Basketcase)  Brian (The Brain)  Pam  Timothy McGee  Chandler Bing  this is with Meg removed|||in probably about 6 hours I did 30 drawings of Pittsburgh Penguins hockey players for a Game Day Thread on HFBoards. I went with more or less a Adventure Time styled theme (partially limited by my...|||@Rosewhistle I really like your style. is there anywhere else where you have an album or something of your art on the internet?    I've been trying to come up with a relatively unique cartoony...|||so I'm thinking 9w1 7w6 3w4 which I sort of said in my last post.  agree? disagree? lack of info?      apparently I forgot to post a response to the first question. I guess I'm not really sure....|||I'm convinced that maturity is a complete fabrication.  When I was young I always thought adults as different and being naturally responsible and knowing and stuff. Now that I'm grown up, I realized...|||yep. I was asked to prom by a girl. said yes. still not sure if it was friends or if she liked me. she seemed quite excited when I said yes so... dunno.    in 4th through 6th grade I had been asked...|||some combination of 7w6, 9w1, and 3w4 sounds pretty good for the triad.  what would determine the order? (if thats the right way to say it) also is there anything else to consider?  I apologize if...|||hmmm after reading up on 7, I'm thinking 7w6 possibly?    it seems to say that 7s are pleasure seeking and social-able. I guess I'm neither at first glance but I get really excited about certain...|||Prerequisites  What age range are you in?  21  Any disorders or conditions we should know about?    Social Anxiety I guess.  Main Questions|||Actually I was thinking the opposite :D  he seems not particularly talkative.  I don't know any INTJs in real life but I know an ENTJ. It was more or less a whimsical feeling that said hey those...|||INFP: #CCCCFF (to be improved) a soft blueish grey. something that would remind you of a quiet afternoon in New England, probably Maine. (mysterious calm) INFJ: #E6E6FA(to be improved) Lavender....|||I think thats what I feel in speeches and in other occasional situations. It actually helps me in speeches cause it doesn't feel like I'm actually doing the speech but off in my own little world...|||I can relate and I think that's pretty much what I'm going through right now, well at least the fallout from being bad at it.  I've been forcing myself to do things for school because my parents say...|||Like I said I was only confident with the first two. I completely guessed on Kougami and Yayoi (black haired girl who used to be in a band). though I'm sure I got some of the letters but not...|||I'll take a stab at it  Akane Tsunemori: INFP  Nobuchika Ginzoa: ISTJ  Shinya Kougami: INTP  Tomomi Masaoka: ENTP|||solid color polo shirt. khaki pants (or jeans). brown laceless LL Bean shoes.   I dislike bright colors, graphics, and logos.   When I lose weight, I'll try to put more effort into it.|||One of my best friends is an ENTJ. He's the only person besides my dad who can make me really frustrated by asking the question why? . I suppose attracted is a good way to put it as to how I relate...'\n",
      "*****************\n"
     ]
    }
   ],
   "source": [
    "sample_posts = x_train.sample(n=10, random_state=3099)  \n",
    "for text in sample_posts:\n",
    "    print(\"*****************\")\n",
    "    print(text)\n",
    "    print(\"*****************\")"
   ]
  },
  {
   "cell_type": "markdown",
   "metadata": {
    "id": "UqdSUtbdorxd"
   },
   "source": [
    "- check dataset balancing"
   ]
  },
  {
   "cell_type": "code",
   "execution_count": 19,
   "metadata": {
    "id": "JBHrSvXhorxd"
   },
   "outputs": [],
   "source": [
    "class_distribution = y_train.value_counts()"
   ]
  },
  {
   "cell_type": "code",
   "execution_count": 20,
   "metadata": {},
   "outputs": [
    {
     "name": "stdout",
     "output_type": "stream",
     "text": [
      "Class Distribution:\n",
      "type\n",
      "INFP    1476\n",
      "INFJ    1176\n",
      "INTP    1025\n",
      "INTJ     867\n",
      "ENFP     554\n",
      "ENTP     552\n",
      "ISTP     269\n",
      "ISFP     224\n",
      "ENTJ     176\n",
      "ISTJ     165\n",
      "ENFJ     157\n",
      "ISFJ     131\n",
      "ESTP      68\n",
      "ESFP      35\n",
      "ESTJ      33\n",
      "ESFJ      32\n",
      "Name: count, dtype: int64\n"
     ]
    }
   ],
   "source": [
    "print(\"Class Distribution:\")\n",
    "print(class_distribution) #data is not balanced"
   ]
  },
  {
   "cell_type": "markdown",
   "metadata": {
    "id": "x3wl_crkorxd"
   },
   "source": [
    "- Cleaning and Preprocessing are:\n",
    "    - 1 removing urls\n",
    "    - 2 removing special characters\n",
    "    - 3 lowercasing\n",
    "    - 4 removing stop words\n",
    "    - 5 lemmatization"
   ]
  },
  {
   "cell_type": "markdown",
   "metadata": {
    "id": "XyJkqK9gorxe"
   },
   "source": [
    "### Cleaning and Preprocessing"
   ]
  },
  {
   "cell_type": "markdown",
   "metadata": {},
   "source": [
    "downloading resources "
   ]
  },
  {
   "cell_type": "code",
   "execution_count": 6,
   "metadata": {},
   "outputs": [
    {
     "name": "stderr",
     "output_type": "stream",
     "text": [
      "[nltk_data] Downloading package punkt to\n",
      "[nltk_data]     C:\\Users\\ITI\\AppData\\Roaming\\nltk_data...\n",
      "[nltk_data]   Package punkt is already up-to-date!\n",
      "[nltk_data] Downloading package stopwords to\n",
      "[nltk_data]     C:\\Users\\ITI\\AppData\\Roaming\\nltk_data...\n",
      "[nltk_data]   Package stopwords is already up-to-date!\n",
      "[nltk_data] Downloading package wordnet to\n",
      "[nltk_data]     C:\\Users\\ITI\\AppData\\Roaming\\nltk_data...\n",
      "[nltk_data]   Package wordnet is already up-to-date!\n"
     ]
    },
    {
     "data": {
      "text/plain": [
       "True"
      ]
     },
     "execution_count": 6,
     "metadata": {},
     "output_type": "execute_result"
    }
   ],
   "source": [
    "nltk.download('punkt')\n",
    "nltk.download('stopwords')\n",
    "nltk.download('wordnet')"
   ]
  },
  {
   "cell_type": "code",
   "execution_count": 7,
   "metadata": {},
   "outputs": [],
   "source": [
    "lemmatizer = WordNetLemmatizer()\n",
    "stop_words = set(stopwords.words('english'))"
   ]
  },
  {
   "cell_type": "code",
   "execution_count": 8,
   "metadata": {},
   "outputs": [],
   "source": [
    "def preprocess_text(text):\n",
    "    # Remove URLs\n",
    "    text = re.sub(r'http\\S+', '', text)\n",
    "    # Remove special characters, numbers, and dots\n",
    "    text = re.sub(r'[^a-zA-Z\\s]', '', text)\n",
    "    # Lowercasing\n",
    "    text = text.lower()\n",
    "    # Tokenization\n",
    "    tokens = nltk.word_tokenize(text)\n",
    "    # Removing stop words\n",
    "    tokens = [token for token in tokens if token not in stop_words]\n",
    "    # Lemmatization\n",
    "    lemmatized_tokens = [lemmatizer.lemmatize(token) for token in tokens]\n",
    "    # Join tokens back into a single string\n",
    "    preprocessed_text = ' '.join(lemmatized_tokens)\n",
    "    return preprocessed_text"
   ]
  },
  {
   "cell_type": "code",
   "execution_count": 9,
   "metadata": {},
   "outputs": [],
   "source": [
    "X_train_preprocessed = x_train.apply(preprocess_text)\n",
    "X_test_preprocessed = x_test.apply(preprocess_text)"
   ]
  },
  {
   "cell_type": "code",
   "execution_count": 10,
   "metadata": {},
   "outputs": [],
   "source": [
    "label_encoder = LabelEncoder()\n",
    "y_train_encoded = label_encoder.fit_transform(y_train)\n",
    "y_test_encoded = label_encoder.transform(y_test)"
   ]
  },
  {
   "cell_type": "markdown",
   "metadata": {
    "id": "ba0r1ASHorxf"
   },
   "source": [
    "**You  are doing Great so far!**"
   ]
  },
  {
   "cell_type": "markdown",
   "metadata": {
    "id": "R9BhRQbYorxf"
   },
   "source": [
    "### Modelling"
   ]
  },
  {
   "cell_type": "code",
   "execution_count": 12,
   "metadata": {},
   "outputs": [],
   "source": [
    "#tokenization\n",
    "max_words = 1000\n",
    "tokenizer = tf.keras.preprocessing.text.Tokenizer(num_words=max_words)\n",
    "tokenizer.fit_on_texts(X_train_preprocessed)\n",
    "X_train_seq = tokenizer.texts_to_sequences(X_train_preprocessed)\n",
    "X_test_seq = tokenizer.texts_to_sequences(X_test_preprocessed)\n",
    "\n"
   ]
  },
  {
   "cell_type": "code",
   "execution_count": 13,
   "metadata": {},
   "outputs": [],
   "source": [
    "# Padding \n",
    "max_len = 200\n",
    "X_train_pad = pad_sequences(X_train_seq, maxlen=max_len)\n",
    "X_test_pad = pad_sequences(X_test_seq, maxlen=max_len)"
   ]
  },
  {
   "cell_type": "code",
   "execution_count": 14,
   "metadata": {},
   "outputs": [],
   "source": [
    "#model\n",
    "model = Sequential([\n",
    "    Embedding(max_words, 64),\n",
    "    LSTM(64, dropout=0.2, recurrent_dropout=0.2),\n",
    "    Dense(16, activation='softmax')\n",
    "])"
   ]
  },
  {
   "cell_type": "code",
   "execution_count": 16,
   "metadata": {},
   "outputs": [
    {
     "name": "stdout",
     "output_type": "stream",
     "text": [
      "Epoch 1/10\n",
      "\u001b[1m55/55\u001b[0m \u001b[32m━━━━━━━━━━━━━━━━━━━━\u001b[0m\u001b[37m\u001b[0m \u001b[1m8s\u001b[0m 120ms/step - accuracy: 0.3156 - loss: 2.1210\n",
      "Epoch 2/10\n",
      "\u001b[1m55/55\u001b[0m \u001b[32m━━━━━━━━━━━━━━━━━━━━\u001b[0m\u001b[37m\u001b[0m \u001b[1m6s\u001b[0m 116ms/step - accuracy: 0.3474 - loss: 2.0583\n",
      "Epoch 3/10\n",
      "\u001b[1m55/55\u001b[0m \u001b[32m━━━━━━━━━━━━━━━━━━━━\u001b[0m\u001b[37m\u001b[0m \u001b[1m7s\u001b[0m 123ms/step - accuracy: 0.3665 - loss: 1.9852\n",
      "Epoch 4/10\n",
      "\u001b[1m55/55\u001b[0m \u001b[32m━━━━━━━━━━━━━━━━━━━━\u001b[0m\u001b[37m\u001b[0m \u001b[1m6s\u001b[0m 114ms/step - accuracy: 0.3561 - loss: 1.9755\n",
      "Epoch 5/10\n",
      "\u001b[1m55/55\u001b[0m \u001b[32m━━━━━━━━━━━━━━━━━━━━\u001b[0m\u001b[37m\u001b[0m \u001b[1m7s\u001b[0m 122ms/step - accuracy: 0.3914 - loss: 1.8999\n",
      "Epoch 6/10\n",
      "\u001b[1m55/55\u001b[0m \u001b[32m━━━━━━━━━━━━━━━━━━━━\u001b[0m\u001b[37m\u001b[0m \u001b[1m6s\u001b[0m 117ms/step - accuracy: 0.4046 - loss: 1.8667\n",
      "Epoch 7/10\n",
      "\u001b[1m55/55\u001b[0m \u001b[32m━━━━━━━━━━━━━━━━━━━━\u001b[0m\u001b[37m\u001b[0m \u001b[1m6s\u001b[0m 117ms/step - accuracy: 0.4244 - loss: 1.8390\n",
      "Epoch 8/10\n",
      "\u001b[1m55/55\u001b[0m \u001b[32m━━━━━━━━━━━━━━━━━━━━\u001b[0m\u001b[37m\u001b[0m \u001b[1m6s\u001b[0m 117ms/step - accuracy: 0.4308 - loss: 1.7997\n",
      "Epoch 9/10\n",
      "\u001b[1m55/55\u001b[0m \u001b[32m━━━━━━━━━━━━━━━━━━━━\u001b[0m\u001b[37m\u001b[0m \u001b[1m6s\u001b[0m 116ms/step - accuracy: 0.4321 - loss: 1.7813\n",
      "Epoch 10/10\n",
      "\u001b[1m55/55\u001b[0m \u001b[32m━━━━━━━━━━━━━━━━━━━━\u001b[0m\u001b[37m\u001b[0m \u001b[1m7s\u001b[0m 119ms/step - accuracy: 0.4488 - loss: 1.7499\n"
     ]
    },
    {
     "data": {
      "text/plain": [
       "<keras.src.callbacks.history.History at 0x219f3e8a840>"
      ]
     },
     "execution_count": 16,
     "metadata": {},
     "output_type": "execute_result"
    }
   ],
   "source": [
    "model.compile(optimizer='adam', loss='sparse_categorical_crossentropy', metrics=['accuracy'])\n",
    "\n",
    "model.fit(X_train_pad, y_train_encoded, epochs=10, batch_size=128)\n"
   ]
  },
  {
   "cell_type": "markdown",
   "metadata": {
    "id": "85JlkIQXorxg"
   },
   "source": [
    "#### Evaluation"
   ]
  },
  {
   "cell_type": "markdown",
   "metadata": {},
   "source": [
    "**Evaluation metric:**\n",
    "Precision"
   ]
  },
  {
   "cell_type": "code",
   "execution_count": 19,
   "metadata": {},
   "outputs": [
    {
     "name": "stdout",
     "output_type": "stream",
     "text": [
      "\u001b[1m55/55\u001b[0m \u001b[32m━━━━━━━━━━━━━━━━━━━━\u001b[0m\u001b[37m\u001b[0m \u001b[1m1s\u001b[0m 16ms/step\n"
     ]
    }
   ],
   "source": [
    "y_pred = model.predict(X_test_pad)\n"
   ]
  },
  {
   "cell_type": "code",
   "execution_count": 21,
   "metadata": {},
   "outputs": [],
   "source": [
    "y_pred_classes = np.argmax(y_pred, axis=1)\n"
   ]
  },
  {
   "cell_type": "code",
   "execution_count": 22,
   "metadata": {},
   "outputs": [
    {
     "name": "stdout",
     "output_type": "stream",
     "text": [
      "Precision: 0.24674709302069783\n"
     ]
    },
    {
     "name": "stderr",
     "output_type": "stream",
     "text": [
      "C:\\Users\\ITI\\AppData\\Local\\Programs\\Python\\Python312\\Lib\\site-packages\\sklearn\\metrics\\_classification.py:1509: UndefinedMetricWarning: Precision is ill-defined and being set to 0.0 in labels with no predicted samples. Use `zero_division` parameter to control this behavior.\n",
      "  _warn_prf(average, modifier, f\"{metric.capitalize()} is\", len(result))\n"
     ]
    }
   ],
   "source": [
    "precision = precision_score(y_test_encoded, y_pred_classes, average='weighted')\n",
    "print(\"Precision:\", precision)"
   ]
  },
  {
   "cell_type": "markdown",
   "metadata": {
    "id": "fhVFUaIcorxh"
   },
   "source": [
    "### Enhancement"
   ]
  },
  {
   "cell_type": "code",
   "execution_count": 24,
   "metadata": {
    "id": "Y4h1Danvorxh"
   },
   "outputs": [],
   "source": [
    "model = Sequential([\n",
    "    Embedding(max_words, 128),  \n",
    "    Bidirectional(LSTM(128, dropout=0.2, recurrent_dropout=0.2, return_sequences=True)),  \n",
    "    Dropout(0.5),  \n",
    "    LSTM(64, dropout=0.2, recurrent_dropout=0.2),  \n",
    "    Dense(32, activation='relu'),  \n",
    "    Dense(16, activation='softmax')\n",
    "])"
   ]
  },
  {
   "cell_type": "code",
   "execution_count": 25,
   "metadata": {
    "id": "ZDsCjdqsorxi"
   },
   "outputs": [],
   "source": [
    "model.compile(optimizer='adam', loss='sparse_categorical_crossentropy', metrics=['accuracy'])\n"
   ]
  },
  {
   "cell_type": "code",
   "execution_count": 26,
   "metadata": {},
   "outputs": [
    {
     "name": "stdout",
     "output_type": "stream",
     "text": [
      "Epoch 1/5\n",
      "\u001b[1m55/55\u001b[0m \u001b[32m━━━━━━━━━━━━━━━━━━━━\u001b[0m\u001b[37m\u001b[0m \u001b[1m42s\u001b[0m 692ms/step - accuracy: 0.1845 - loss: 2.5274\n",
      "Epoch 2/5\n",
      "\u001b[1m55/55\u001b[0m \u001b[32m━━━━━━━━━━━━━━━━━━━━\u001b[0m\u001b[37m\u001b[0m \u001b[1m40s\u001b[0m 723ms/step - accuracy: 0.2061 - loss: 2.2953\n",
      "Epoch 3/5\n",
      "\u001b[1m55/55\u001b[0m \u001b[32m━━━━━━━━━━━━━━━━━━━━\u001b[0m\u001b[37m\u001b[0m \u001b[1m42s\u001b[0m 763ms/step - accuracy: 0.1973 - loss: 2.2954\n",
      "Epoch 4/5\n",
      "\u001b[1m55/55\u001b[0m \u001b[32m━━━━━━━━━━━━━━━━━━━━\u001b[0m\u001b[37m\u001b[0m \u001b[1m44s\u001b[0m 799ms/step - accuracy: 0.2076 - loss: 2.2718\n",
      "Epoch 5/5\n",
      "\u001b[1m55/55\u001b[0m \u001b[32m━━━━━━━━━━━━━━━━━━━━\u001b[0m\u001b[37m\u001b[0m \u001b[1m44s\u001b[0m 794ms/step - accuracy: 0.2587 - loss: 2.2265\n"
     ]
    },
    {
     "data": {
      "text/plain": [
       "<keras.src.callbacks.history.History at 0x219f3f0a510>"
      ]
     },
     "execution_count": 26,
     "metadata": {},
     "output_type": "execute_result"
    }
   ],
   "source": [
    "model.fit(X_train_pad, y_train_encoded, epochs=5, batch_size=128)\n"
   ]
  },
  {
   "cell_type": "code",
   "execution_count": 27,
   "metadata": {},
   "outputs": [
    {
     "name": "stdout",
     "output_type": "stream",
     "text": [
      "\u001b[1m55/55\u001b[0m \u001b[32m━━━━━━━━━━━━━━━━━━━━\u001b[0m\u001b[37m\u001b[0m \u001b[1m4s\u001b[0m 67ms/step\n",
      "Precision: 0.1392904953514593\n"
     ]
    },
    {
     "name": "stderr",
     "output_type": "stream",
     "text": [
      "C:\\Users\\ITI\\AppData\\Local\\Programs\\Python\\Python312\\Lib\\site-packages\\sklearn\\metrics\\_classification.py:1509: UndefinedMetricWarning: Precision is ill-defined and being set to 0.0 in labels with no predicted samples. Use `zero_division` parameter to control this behavior.\n",
      "  _warn_prf(average, modifier, f\"{metric.capitalize()} is\", len(result))\n"
     ]
    }
   ],
   "source": [
    "y_pred = model.predict(X_test_pad)\n",
    "y_pred_classes = np.argmax(y_pred, axis=1)\n",
    "precision = precision_score(y_test_encoded, y_pred_classes, average='weighted')\n",
    "print(\"Precision:\", precision)"
   ]
  },
  {
   "cell_type": "markdown",
   "metadata": {},
   "source": [
    "### Conclusion and final results\n"
   ]
  },
  {
   "cell_type": "markdown",
   "metadata": {},
   "source": [
    "The precision score after enhancing the model architecture is 0.139.<br>\n",
    "This indicates that the model's performance has not improved compared to the initial model (Precision: 0.246)."
   ]
  },
  {
   "cell_type": "markdown",
   "metadata": {
    "id": "Nw1GVnYLorxi"
   },
   "source": [
    "#### Done!"
   ]
  }
 ],
 "metadata": {
  "colab": {
   "provenance": []
  },
  "kernelspec": {
   "display_name": "Python 3 (ipykernel)",
   "language": "python",
   "name": "python3"
  },
  "language_info": {
   "codemirror_mode": {
    "name": "ipython",
    "version": 3
   },
   "file_extension": ".py",
   "mimetype": "text/x-python",
   "name": "python",
   "nbconvert_exporter": "python",
   "pygments_lexer": "ipython3",
   "version": "3.12.1"
  }
 },
 "nbformat": 4,
 "nbformat_minor": 4
}
